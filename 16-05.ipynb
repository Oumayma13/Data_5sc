{
 "cells": [
  {
   "cell_type": "code",
   "execution_count": 1,
   "metadata": {},
   "outputs": [],
   "source": [
    "#Charger les biblio\n",
    "import numpy as np\n",
    "import pandas as pd\n",
    "from pandas import read_csv\n",
    "import matplotlib.pyplot as plt\n",
    "from matplotlib import cm\n",
    "import seaborn as sns\n",
    "import numpy as np\n",
    "import string \n",
    "from subprocess import check_output\n",
    "import seaborn as sns\n",
    "from pylab import *\n",
    "%matplotlib inline\n",
    "sns.set()"
   ]
  },
  {
   "cell_type": "code",
   "execution_count": 2,
   "metadata": {},
   "outputs": [],
   "source": [
    "# Lire la table avec 'header'\n",
    "df = pd.read_csv('Hmvl33.csv', sep=';', engine='python')"
   ]
  },
  {
   "cell_type": "code",
   "execution_count": 38,
   "metadata": {},
   "outputs": [],
   "source": [
    "dff = df[0:2935659]"
   ]
  },
  {
   "cell_type": "code",
   "execution_count": 39,
   "metadata": {},
   "outputs": [],
   "source": [
    "# Remplacer les NaN par des zeros dans trame_hmvl\n",
    "dff.trame_hmvl.fillna('0', inplace=True)"
   ]
  },
  {
   "cell_type": "code",
   "execution_count": 40,
   "metadata": {},
   "outputs": [],
   "source": [
    "# Reindexer la dataframe\n",
    "dff.index = range(len(dff))"
   ]
  },
  {
   "cell_type": "code",
   "execution_count": 41,
   "metadata": {},
   "outputs": [],
   "source": [
    "#changeaons les noms de colonnes\n",
    "dff.columns = ['code', 'id','equipement_id', 'date','trame']"
   ]
  },
  {
   "cell_type": "code",
   "execution_count": 42,
   "metadata": {},
   "outputs": [
    {
     "name": "stderr",
     "output_type": "stream",
     "text": [
      "C:\\Users\\oumayma.doughmi\\ANACONDA\\lib\\site-packages\\ipykernel_launcher.py:2: SettingWithCopyWarning: \n",
      "A value is trying to be set on a copy of a slice from a DataFrame.\n",
      "Try using .loc[row_indexer,col_indexer] = value instead\n",
      "\n",
      "See the caveats in the documentation: http://pandas.pydata.org/pandas-docs/stable/indexing.html#indexing-view-versus-copy\n",
      "  \n"
     ]
    }
   ],
   "source": [
    "# On enlève les @\n",
    "dff[\"trame\"] = dff[\"trame\"].str.replace(\"@\", \"\")"
   ]
  },
  {
   "cell_type": "code",
   "execution_count": 43,
   "metadata": {},
   "outputs": [
    {
     "name": "stderr",
     "output_type": "stream",
     "text": [
      "C:\\Users\\oumayma.doughmi\\ANACONDA\\lib\\site-packages\\ipykernel_launcher.py:4: SettingWithCopyWarning: \n",
      "A value is trying to be set on a copy of a slice from a DataFrame.\n",
      "Try using .loc[row_indexer,col_indexer] = value instead\n",
      "\n",
      "See the caveats in the documentation: http://pandas.pydata.org/pandas-docs/stable/indexing.html#indexing-view-versus-copy\n",
      "  after removing the cwd from sys.path.\n"
     ]
    }
   ],
   "source": [
    "liste = [\"x0\",\"x1\",\"x2\",\"x3\",\"x4\",\"x5\",\"x6\",\"x7\",\"x8\",\"x9\",'x10']\n",
    "# Ajouter les colonnes, en séparant la colonne 'trame' \n",
    "for i in range(len(liste)):\n",
    "    dff[liste[i]] = dff[\"trame\"].str.slice(11*i,11*(i+1))"
   ]
  },
  {
   "cell_type": "code",
   "execution_count": 44,
   "metadata": {},
   "outputs": [],
   "source": [
    "# Supprimer les colonnes xj\n",
    "df0 = dff.drop(['x3','x1','x2','x4','x5','x6','x7','x8', 'x9', 'x10', 'trame'], axis=1)\n",
    "# df1\n",
    "df1 = dff.drop(['x3','x0','x2','x4','x5','x6','x7','x8', 'x9', 'x10',  'trame'], axis=1)\n",
    "df2 = dff.drop(['x3','x1','x0','x4','x5','x6','x7','x8', 'x9', 'x10', 'trame'], axis=1)\n",
    "df3 = dff.drop(['x0','x1','x2','x4','x5','x6','x7','x8', 'x9', 'x10', 'trame'], axis=1)\n",
    "df4 = dff.drop(['x0','x1','x2','x3','x5','x6','x7','x8', 'x9', 'x10', 'trame'], axis=1)\n",
    "df5 = dff.drop(['x0','x1','x2','x4','x3','x6','x7','x8', 'x9', 'x10', 'trame'], axis=1)\n",
    "df6 = dff.drop(['x0','x1','x2','x4','x5','x3','x7','x8', 'x9', 'x10', 'trame'], axis=1)\n",
    "df7 = dff.drop(['x0','x1','x2','x4','x5','x6','x3','x8', 'x9', 'x10', 'trame'], axis=1)\n",
    "df8 = dff.drop(['x0','x1','x2','x4','x5','x6','x3','x7', 'x9', 'x10', 'trame'], axis=1)\n",
    "df9 = dff.drop(['x0','x1','x2','x4','x5','x6','x3','x7', 'x8', 'x10',  'trame'], axis=1)\n",
    "\n",
    "df10 = dff.drop(['x0','x1','x2','x4','x5','x6','x3','x7', 'x9', 'x8','trame'], axis=1)"
   ]
  },
  {
   "cell_type": "code",
   "execution_count": 45,
   "metadata": {},
   "outputs": [],
   "source": [
    "liste = [\"x0\",\"x1\",\"x2\",\"x3\",\"x4\",\"x5\",\"x6\",\"x7\",\"x8\",\"x9\",'x10']\n",
    "liste2 = [df0,df1,df2,df3,df4,df5,df6,df7,df8,df9,df10]\n",
    "\n",
    "    # Séparer la colonne xi en 4 colonnes  \n",
    "for i, f in zip(range( len(liste)), liste2):\n",
    "    f[\"voie\"] = f[liste[i]].str.slice(0,1)\n",
    "    f[\"horodatage\"] = f[liste[i]].str.slice(1,5)\n",
    "    f[\"vitesse\"] = f[liste[i]].str.slice(5,8)\n",
    "    f[\"longueur\"] = f[liste[i]].str.slice(8,11)"
   ]
  },
  {
   "cell_type": "code",
   "execution_count": 46,
   "metadata": {},
   "outputs": [],
   "source": [
    "# rename columns\n",
    "for i,f in zip(range( len(liste)), liste2):\n",
    "    \n",
    "    f.rename(columns={liste[i]:'x'}, inplace=True)"
   ]
  },
  {
   "cell_type": "code",
   "execution_count": 47,
   "metadata": {},
   "outputs": [],
   "source": [
    "# Concatener les data\n",
    "result = pd.concat(liste2)"
   ]
  },
  {
   "cell_type": "code",
   "execution_count": 48,
   "metadata": {},
   "outputs": [],
   "source": [
    "# Reindexer la dataframe\n",
    "result.index = range(len(result))"
   ]
  },
  {
   "cell_type": "code",
   "execution_count": 49,
   "metadata": {},
   "outputs": [],
   "source": [
    "# On ajoute une colonne Count pour compter chacune\n",
    "result['len'] = result['x'].str.len()\n",
    "# Eliminer les lignes = 0 et 1\n",
    "result = result[result.len != 0]\n",
    "result = result[result.len != 1]"
   ]
  },
  {
   "cell_type": "code",
   "execution_count": 26,
   "metadata": {},
   "outputs": [
    {
     "data": {
      "text/html": [
       "<div>\n",
       "<style scoped>\n",
       "    .dataframe tbody tr th:only-of-type {\n",
       "        vertical-align: middle;\n",
       "    }\n",
       "\n",
       "    .dataframe tbody tr th {\n",
       "        vertical-align: top;\n",
       "    }\n",
       "\n",
       "    .dataframe thead th {\n",
       "        text-align: right;\n",
       "    }\n",
       "</style>\n",
       "<table border=\"1\" class=\"dataframe\">\n",
       "  <thead>\n",
       "    <tr style=\"text-align: right;\">\n",
       "      <th></th>\n",
       "      <th>code</th>\n",
       "      <th>id</th>\n",
       "      <th>equipement_id</th>\n",
       "      <th>date</th>\n",
       "      <th>x</th>\n",
       "      <th>voie</th>\n",
       "      <th>horodatage</th>\n",
       "      <th>vitesse</th>\n",
       "      <th>longueur</th>\n",
       "      <th>len</th>\n",
       "    </tr>\n",
       "  </thead>\n",
       "  <tbody>\n",
       "    <tr>\n",
       "      <th>0</th>\n",
       "      <td>MBS</td>\n",
       "      <td>7357</td>\n",
       "      <td>7357</td>\n",
       "      <td>2019-02-18 00:00:00.146</td>\n",
       "      <td>05431109037</td>\n",
       "      <td>0</td>\n",
       "      <td>5431</td>\n",
       "      <td>109</td>\n",
       "      <td>037</td>\n",
       "      <td>11</td>\n",
       "    </tr>\n",
       "    <tr>\n",
       "      <th>2</th>\n",
       "      <td>MPH</td>\n",
       "      <td>7355</td>\n",
       "      <td>7355</td>\n",
       "      <td>2019-02-18 00:00:00.146</td>\n",
       "      <td>05852092044</td>\n",
       "      <td>0</td>\n",
       "      <td>5852</td>\n",
       "      <td>092</td>\n",
       "      <td>044</td>\n",
       "      <td>11</td>\n",
       "    </tr>\n",
       "    <tr>\n",
       "      <th>6</th>\n",
       "      <td>M1b</td>\n",
       "      <td>6383</td>\n",
       "      <td>6383</td>\n",
       "      <td>2019-02-18 00:00:02.069</td>\n",
       "      <td>15736085041</td>\n",
       "      <td>1</td>\n",
       "      <td>5736</td>\n",
       "      <td>085</td>\n",
       "      <td>041</td>\n",
       "      <td>11</td>\n",
       "    </tr>\n",
       "    <tr>\n",
       "      <th>8</th>\n",
       "      <td>M1d</td>\n",
       "      <td>6385</td>\n",
       "      <td>6385</td>\n",
       "      <td>2019-02-18 00:00:02.069</td>\n",
       "      <td>15004114040</td>\n",
       "      <td>1</td>\n",
       "      <td>5004</td>\n",
       "      <td>114</td>\n",
       "      <td>040</td>\n",
       "      <td>11</td>\n",
       "    </tr>\n",
       "    <tr>\n",
       "      <th>9</th>\n",
       "      <td>M1e</td>\n",
       "      <td>6386</td>\n",
       "      <td>6386</td>\n",
       "      <td>2019-02-18 00:00:02.069</td>\n",
       "      <td>12780093040</td>\n",
       "      <td>1</td>\n",
       "      <td>2780</td>\n",
       "      <td>093</td>\n",
       "      <td>040</td>\n",
       "      <td>11</td>\n",
       "    </tr>\n",
       "  </tbody>\n",
       "</table>\n",
       "</div>"
      ],
      "text/plain": [
       "  code    id  equipement_id                     date            x voie  \\\n",
       "0  MBS  7357           7357  2019-02-18 00:00:00.146  05431109037    0   \n",
       "2  MPH  7355           7355  2019-02-18 00:00:00.146  05852092044    0   \n",
       "6  M1b  6383           6383  2019-02-18 00:00:02.069  15736085041    1   \n",
       "8  M1d  6385           6385  2019-02-18 00:00:02.069  15004114040    1   \n",
       "9  M1e  6386           6386  2019-02-18 00:00:02.069  12780093040    1   \n",
       "\n",
       "  horodatage vitesse longueur  len  \n",
       "0       5431     109      037   11  \n",
       "2       5852     092      044   11  \n",
       "6       5736     085      041   11  \n",
       "8       5004     114      040   11  \n",
       "9       2780     093      040   11  "
      ]
     },
     "execution_count": 26,
     "metadata": {},
     "output_type": "execute_result"
    }
   ],
   "source": [
    "result.head()"
   ]
  },
  {
   "cell_type": "code",
   "execution_count": 27,
   "metadata": {},
   "outputs": [],
   "source": [
    "# Créer une fonction pourcentage\n",
    "def prc(part, whole):\n",
    "    return 100 * float(part)/float(whole)"
   ]
  },
  {
   "cell_type": "code",
   "execution_count": 29,
   "metadata": {},
   "outputs": [
    {
     "data": {
      "text/plain": [
       "0.029717093272050084"
      ]
     },
     "execution_count": 29,
     "metadata": {},
     "output_type": "execute_result"
    }
   ],
   "source": [
    "# Voyons le pourcentage des lignes dont 'len' diffenrent de 11\n",
    "m = result[(result['len'] != 11)]\n",
    "prc(len(p1),len(result))"
   ]
  },
  {
   "cell_type": "markdown",
   "metadata": {},
   "source": [
    "Il y a environ 0.03% de lignes dont la longueur du string 'x' est différente d."
   ]
  },
  {
   "cell_type": "code",
   "execution_count": 50,
   "metadata": {},
   "outputs": [],
   "source": [
    "# Supprimons ces observations.\n",
    "p1 = result[result.len == 11]"
   ]
  },
  {
   "cell_type": "code",
   "execution_count": 51,
   "metadata": {},
   "outputs": [],
   "source": [
    "# Supprimons la colonne\n",
    "p1 = p1.drop(['x'], axis=1)"
   ]
  },
  {
   "cell_type": "code",
   "execution_count": 52,
   "metadata": {},
   "outputs": [],
   "source": [
    "#Exporter la table\n",
    "p1.to_csv('p1.csv', index = False, encoding = 'utf-8')"
   ]
  },
  {
   "cell_type": "code",
   "execution_count": 12,
   "metadata": {},
   "outputs": [],
   "source": [
    "dff = df[8806977:11742637]"
   ]
  },
  {
   "cell_type": "code",
   "execution_count": 69,
   "metadata": {},
   "outputs": [
    {
     "data": {
      "text/plain": [
       "11742637"
      ]
     },
     "execution_count": 69,
     "metadata": {},
     "output_type": "execute_result"
    }
   ],
   "source": [
    "len(df)"
   ]
  },
  {
   "cell_type": "code",
   "execution_count": 13,
   "metadata": {},
   "outputs": [],
   "source": [
    "# Remplacer les NaN par des zeros dans trame_hmvl\n",
    "dff.trame_hmvl.fillna('0', inplace=True)"
   ]
  },
  {
   "cell_type": "code",
   "execution_count": 14,
   "metadata": {},
   "outputs": [
    {
     "name": "stderr",
     "output_type": "stream",
     "text": [
      "C:\\Users\\oumayma.doughmi\\ANACONDA\\lib\\site-packages\\ipykernel_launcher.py:6: SettingWithCopyWarning: \n",
      "A value is trying to be set on a copy of a slice from a DataFrame.\n",
      "Try using .loc[row_indexer,col_indexer] = value instead\n",
      "\n",
      "See the caveats in the documentation: http://pandas.pydata.org/pandas-docs/stable/indexing.html#indexing-view-versus-copy\n",
      "  \n",
      "C:\\Users\\oumayma.doughmi\\ANACONDA\\lib\\site-packages\\ipykernel_launcher.py:10: SettingWithCopyWarning: \n",
      "A value is trying to be set on a copy of a slice from a DataFrame.\n",
      "Try using .loc[row_indexer,col_indexer] = value instead\n",
      "\n",
      "See the caveats in the documentation: http://pandas.pydata.org/pandas-docs/stable/indexing.html#indexing-view-versus-copy\n",
      "  # Remove the CWD from sys.path while we load stuff.\n"
     ]
    }
   ],
   "source": [
    "# Reindexer la dataframe\n",
    "dff.index = range(len(dff))\n",
    "#changeaons les noms de colonnes\n",
    "dff.columns = ['code', 'id','equipement_id', 'date','trame']\n",
    "# On enlève les @\n",
    "dff[\"trame\"] = dff[\"trame\"].str.replace(\"@\", \"\")\n",
    "liste = [\"x0\",\"x1\",\"x2\",\"x3\",\"x4\",\"x5\",\"x6\",\"x7\",\"x8\",\"x9\",'x10']\n",
    "# Ajouter les colonnes, en séparant la colonne 'trame' \n",
    "for i in range(len(liste)):\n",
    "    dff[liste[i]] = dff[\"trame\"].str.slice(11*i,11*(i+1))"
   ]
  },
  {
   "cell_type": "code",
   "execution_count": 15,
   "metadata": {},
   "outputs": [],
   "source": [
    "# Supprimer les colonnes xj\n",
    "df0 = dff.drop(['x3','x1','x2','x4','x5','x6','x7','x8', 'x9', 'x10', 'trame'], axis=1)\n",
    "# df1\n",
    "df1 = dff.drop(['x3','x0','x2','x4','x5','x6','x7','x8', 'x9', 'x10',  'trame'], axis=1)\n",
    "df2 = dff.drop(['x3','x1','x0','x4','x5','x6','x7','x8', 'x9', 'x10', 'trame'], axis=1)\n",
    "df3 = dff.drop(['x0','x1','x2','x4','x5','x6','x7','x8', 'x9', 'x10', 'trame'], axis=1)\n",
    "df4 = dff.drop(['x0','x1','x2','x3','x5','x6','x7','x8', 'x9', 'x10', 'trame'], axis=1)\n",
    "df5 = dff.drop(['x0','x1','x2','x4','x3','x6','x7','x8', 'x9', 'x10', 'trame'], axis=1)\n",
    "df6 = dff.drop(['x0','x1','x2','x4','x5','x3','x7','x8', 'x9', 'x10', 'trame'], axis=1)\n",
    "df7 = dff.drop(['x0','x1','x2','x4','x5','x6','x3','x8', 'x9', 'x10', 'trame'], axis=1)\n",
    "df8 = dff.drop(['x0','x1','x2','x4','x5','x6','x3','x7', 'x9', 'x10', 'trame'], axis=1)\n",
    "df9 = dff.drop(['x0','x1','x2','x4','x5','x6','x3','x7', 'x8', 'x10',  'trame'], axis=1)\n",
    "\n",
    "df10 = dff.drop(['x0','x1','x2','x4','x5','x6','x3','x7', 'x9', 'x8','trame'], axis=1)"
   ]
  },
  {
   "cell_type": "code",
   "execution_count": 16,
   "metadata": {},
   "outputs": [],
   "source": [
    "liste = [\"x0\",\"x1\",\"x2\",\"x3\",\"x4\",\"x5\",\"x6\",\"x7\",\"x8\",\"x9\",'x10']\n",
    "liste2 = [df0,df1,df2,df3,df4,df5,df6,df7,df8,df9,df10]\n",
    "\n",
    "    # Séparer la colonne xi en 4 colonnes  \n",
    "for i, f in zip(range( len(liste)), liste2):\n",
    "    f[\"voie\"] = f[liste[i]].str.slice(0,1)\n",
    "    f[\"horodatage\"] = f[liste[i]].str.slice(1,5)\n",
    "    f[\"vitesse\"] = f[liste[i]].str.slice(5,8)\n",
    "    f[\"longueur\"] = f[liste[i]].str.slice(8,11)"
   ]
  },
  {
   "cell_type": "code",
   "execution_count": 17,
   "metadata": {},
   "outputs": [],
   "source": [
    "# rename columns\n",
    "for i,f in zip(range( len(liste)), liste2):\n",
    "    \n",
    "    f.rename(columns={liste[i]:'x'}, inplace=True)"
   ]
  },
  {
   "cell_type": "code",
   "execution_count": 18,
   "metadata": {},
   "outputs": [],
   "source": [
    "# Concatener les data\n",
    "result = pd.concat(liste2)\n",
    "# Reindexer la dataframe\n",
    "result.index = range(len(result))"
   ]
  },
  {
   "cell_type": "code",
   "execution_count": 19,
   "metadata": {},
   "outputs": [],
   "source": [
    "# On ajoute une colonne 'len' pour compter chacune\n",
    "result['len'] = result['x'].str.len()\n",
    "# Eliminer les lignes = 0 et 1\n",
    "result = result[result.len != 0]\n",
    "result = result[result.len != 1]"
   ]
  },
  {
   "cell_type": "code",
   "execution_count": 20,
   "metadata": {},
   "outputs": [],
   "source": [
    "p4 = result[result.len == 11]\n",
    "# Supprimons la colonne\n",
    "p4 = p4.drop(['x'], axis=1)\n",
    "#Exporter la table\n",
    "p4.to_csv('p4.csv', index = False, encoding = 'utf-8')"
   ]
  },
  {
   "cell_type": "code",
   "execution_count": null,
   "metadata": {},
   "outputs": [],
   "source": [
    "p1 = pd.read_csv('p1.csv', sep=',', engine='python')\n",
    "p2 = pd.read_csv('p2.csv', sep=',', engine='python')"
   ]
  },
  {
   "cell_type": "code",
   "execution_count": 22,
   "metadata": {},
   "outputs": [
    {
     "data": {
      "text/html": [
       "<div>\n",
       "<style scoped>\n",
       "    .dataframe tbody tr th:only-of-type {\n",
       "        vertical-align: middle;\n",
       "    }\n",
       "\n",
       "    .dataframe tbody tr th {\n",
       "        vertical-align: top;\n",
       "    }\n",
       "\n",
       "    .dataframe thead th {\n",
       "        text-align: right;\n",
       "    }\n",
       "</style>\n",
       "<table border=\"1\" class=\"dataframe\">\n",
       "  <thead>\n",
       "    <tr style=\"text-align: right;\">\n",
       "      <th></th>\n",
       "      <th>code,id,equipement_id,date,voie,horodatage,vitesse,longueur,len</th>\n",
       "    </tr>\n",
       "  </thead>\n",
       "  <tbody>\n",
       "    <tr>\n",
       "      <th>0</th>\n",
       "      <td>M4n,6366,6366,2019-02-19 18:33:22.049,2,4163,0...</td>\n",
       "    </tr>\n",
       "    <tr>\n",
       "      <th>1</th>\n",
       "      <td>M4o,6367,6367,2019-02-19 18:33:22.049,1,3822,0...</td>\n",
       "    </tr>\n",
       "    <tr>\n",
       "      <th>2</th>\n",
       "      <td>M5E,6398,6398,2019-02-19 18:33:22.049,0,1508,0...</td>\n",
       "    </tr>\n",
       "    <tr>\n",
       "      <th>3</th>\n",
       "      <td>M5f,6414,6414,2019-02-19 18:33:22.049,2,5546,0...</td>\n",
       "    </tr>\n",
       "    <tr>\n",
       "      <th>4</th>\n",
       "      <td>M5J,6401,6401,2019-02-19 18:33:22.049,1,4238,0...</td>\n",
       "    </tr>\n",
       "  </tbody>\n",
       "</table>\n",
       "</div>"
      ],
      "text/plain": [
       "  code,id,equipement_id,date,voie,horodatage,vitesse,longueur,len\n",
       "0  M4n,6366,6366,2019-02-19 18:33:22.049,2,4163,0...             \n",
       "1  M4o,6367,6367,2019-02-19 18:33:22.049,1,3822,0...             \n",
       "2  M5E,6398,6398,2019-02-19 18:33:22.049,0,1508,0...             \n",
       "3  M5f,6414,6414,2019-02-19 18:33:22.049,2,5546,0...             \n",
       "4  M5J,6401,6401,2019-02-19 18:33:22.049,1,4238,0...             "
      ]
     },
     "execution_count": 22,
     "metadata": {},
     "output_type": "execute_result"
    }
   ],
   "source": [
    "p2.head()"
   ]
  },
  {
   "cell_type": "code",
   "execution_count": null,
   "metadata": {},
   "outputs": [],
   "source": [
    "p = [p1, p2, p3, p4]\n",
    "# Concatener les data\n",
    "df = pd.concat(p)"
   ]
  },
  {
   "cell_type": "code",
   "execution_count": null,
   "metadata": {},
   "outputs": [],
   "source": []
  }
 ],
 "metadata": {
  "kernelspec": {
   "display_name": "Python 3",
   "language": "python",
   "name": "python3"
  },
  "language_info": {
   "codemirror_mode": {
    "name": "ipython",
    "version": 3
   },
   "file_extension": ".py",
   "mimetype": "text/x-python",
   "name": "python",
   "nbconvert_exporter": "python",
   "pygments_lexer": "ipython3",
   "version": "3.7.3"
  }
 },
 "nbformat": 4,
 "nbformat_minor": 2
}
