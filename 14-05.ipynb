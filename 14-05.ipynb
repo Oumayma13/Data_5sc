{
 "cells": [
  {
   "cell_type": "markdown",
   "metadata": {},
   "source": [
    "# Données 5 sc une semaine"
   ]
  },
  {
   "cell_type": "code",
   "execution_count": 2,
   "metadata": {},
   "outputs": [],
   "source": [
    "#Charger les biblio\n",
    "import numpy as np\n",
    "import pandas as pd\n",
    "from pandas import read_csv\n",
    "import matplotlib.pyplot as plt\n",
    "from matplotlib import cm\n",
    "import seaborn as sns\n",
    "import numpy as np\n",
    "import string \n",
    "from subprocess import check_output\n",
    "import seaborn as sns\n",
    "from pylab import *\n",
    "%matplotlib inline\n",
    "sns.set()"
   ]
  },
  {
   "cell_type": "code",
   "execution_count": 4,
   "metadata": {},
   "outputs": [],
   "source": [
    "# Lire la table avec 'header'\n",
    "df = pd.read_csv('Hmvl33.csv', sep=';', engine='python')"
   ]
  },
  {
   "cell_type": "code",
   "execution_count": 5,
   "metadata": {},
   "outputs": [
    {
     "data": {
      "text/html": [
       "<div>\n",
       "<style scoped>\n",
       "    .dataframe tbody tr th:only-of-type {\n",
       "        vertical-align: middle;\n",
       "    }\n",
       "\n",
       "    .dataframe tbody tr th {\n",
       "        vertical-align: top;\n",
       "    }\n",
       "\n",
       "    .dataframe thead th {\n",
       "        text-align: right;\n",
       "    }\n",
       "</style>\n",
       "<table border=\"1\" class=\"dataframe\">\n",
       "  <thead>\n",
       "    <tr style=\"text-align: right;\">\n",
       "      <th></th>\n",
       "      <th>code</th>\n",
       "      <th>id</th>\n",
       "      <th>equipement_id</th>\n",
       "      <th>date_reception</th>\n",
       "      <th>trame_hmvl</th>\n",
       "    </tr>\n",
       "  </thead>\n",
       "  <tbody>\n",
       "    <tr>\n",
       "      <th>0</th>\n",
       "      <td>MBS</td>\n",
       "      <td>7357</td>\n",
       "      <td>7357</td>\n",
       "      <td>2019-02-18 00:00:00.146</td>\n",
       "      <td>0543110903705431109037256930750412569307504125...</td>\n",
       "    </tr>\n",
       "    <tr>\n",
       "      <th>1</th>\n",
       "      <td>MPA</td>\n",
       "      <td>7356</td>\n",
       "      <td>7356</td>\n",
       "      <td>2019-02-18 00:00:00.146</td>\n",
       "      <td>@</td>\n",
       "    </tr>\n",
       "    <tr>\n",
       "      <th>2</th>\n",
       "      <td>MPH</td>\n",
       "      <td>7355</td>\n",
       "      <td>7355</td>\n",
       "      <td>2019-02-18 00:00:00.146</td>\n",
       "      <td>058520920440585209204405852092044@</td>\n",
       "    </tr>\n",
       "    <tr>\n",
       "      <th>3</th>\n",
       "      <td>SFB-TPCCEN_RDTSCB001</td>\n",
       "      <td>7850</td>\n",
       "      <td>7850</td>\n",
       "      <td>2019-02-18 00:00:01.374</td>\n",
       "      <td>@</td>\n",
       "    </tr>\n",
       "    <tr>\n",
       "      <th>4</th>\n",
       "      <td>SMA-INTBAU_RDTSCB001</td>\n",
       "      <td>7859</td>\n",
       "      <td>7859</td>\n",
       "      <td>2019-02-18 00:00:01.374</td>\n",
       "      <td>@</td>\n",
       "    </tr>\n",
       "  </tbody>\n",
       "</table>\n",
       "</div>"
      ],
      "text/plain": [
       "                   code    id  equipement_id           date_reception  \\\n",
       "0                   MBS  7357           7357  2019-02-18 00:00:00.146   \n",
       "1                   MPA  7356           7356  2019-02-18 00:00:00.146   \n",
       "2                   MPH  7355           7355  2019-02-18 00:00:00.146   \n",
       "3  SFB-TPCCEN_RDTSCB001  7850           7850  2019-02-18 00:00:01.374   \n",
       "4  SMA-INTBAU_RDTSCB001  7859           7859  2019-02-18 00:00:01.374   \n",
       "\n",
       "                                          trame_hmvl  \n",
       "0  0543110903705431109037256930750412569307504125...  \n",
       "1                                                  @  \n",
       "2                 058520920440585209204405852092044@  \n",
       "3                                                  @  \n",
       "4                                                  @  "
      ]
     },
     "execution_count": 5,
     "metadata": {},
     "output_type": "execute_result"
    }
   ],
   "source": [
    "df.head()"
   ]
  },
  {
   "cell_type": "code",
   "execution_count": 6,
   "metadata": {},
   "outputs": [],
   "source": [
    "# Remplacer les NaN par des zeros dans trame_hmvl\n",
    "df.trame_hmvl.fillna('0', inplace=True)"
   ]
  },
  {
   "cell_type": "code",
   "execution_count": 7,
   "metadata": {},
   "outputs": [],
   "source": [
    "# Reindexer la dataframe\n",
    "df.index = range(len(df))"
   ]
  },
  {
   "cell_type": "code",
   "execution_count": 8,
   "metadata": {},
   "outputs": [],
   "source": [
    "#changeaons les noms de colonnes\n",
    "df.columns = ['code', 'id','equipement_id', 'date','trame']"
   ]
  },
  {
   "cell_type": "code",
   "execution_count": 9,
   "metadata": {},
   "outputs": [],
   "source": [
    "# On enlève les @\n",
    "df[\"trame\"] = df[\"trame\"].str.replace(\"@\", \"\")"
   ]
  },
  {
   "cell_type": "code",
   "execution_count": 10,
   "metadata": {},
   "outputs": [],
   "source": [
    "# On ajoute une colonne Count pour compter chacune\n",
    "df['Count'] = df['trame'].str.len()"
   ]
  },
  {
   "cell_type": "code",
   "execution_count": 11,
   "metadata": {},
   "outputs": [
    {
     "data": {
      "text/plain": [
       "60.0"
      ]
     },
     "execution_count": 11,
     "metadata": {},
     "output_type": "execute_result"
    }
   ],
   "source": [
    "df.Count.max()/11"
   ]
  },
  {
   "cell_type": "code",
   "execution_count": 12,
   "metadata": {},
   "outputs": [],
   "source": [
    "# Supprimons les lignes differentes de zero\n",
    "df = df[df.Count != 0]"
   ]
  },
  {
   "cell_type": "code",
   "execution_count": 13,
   "metadata": {},
   "outputs": [],
   "source": [
    "# Supprimons les lignes differentes de 1\n",
    "df = df[df.Count != 1]"
   ]
  },
  {
   "cell_type": "code",
   "execution_count": null,
   "metadata": {},
   "outputs": [],
   "source": [
    "dff = df.groupby(\"Count\").count()\n",
    "# La somme cumulé\n",
    "dff['CUMS'] = dff['id'].cumsum(axis = 0)"
   ]
  },
  {
   "cell_type": "code",
   "execution_count": null,
   "metadata": {},
   "outputs": [],
   "source": []
  }
 ],
 "metadata": {
  "kernelspec": {
   "display_name": "Python 3",
   "language": "python",
   "name": "python3"
  },
  "language_info": {
   "codemirror_mode": {
    "name": "ipython",
    "version": 3
   },
   "file_extension": ".py",
   "mimetype": "text/x-python",
   "name": "python",
   "nbconvert_exporter": "python",
   "pygments_lexer": "ipython3",
   "version": "3.7.3"
  }
 },
 "nbformat": 4,
 "nbformat_minor": 2
}
