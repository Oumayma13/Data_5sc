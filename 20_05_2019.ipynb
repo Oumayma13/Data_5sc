{
 "cells": [
  {
   "cell_type": "code",
   "execution_count": 1,
   "metadata": {},
   "outputs": [],
   "source": [
    "#Charger les biblio\n",
    "import numpy as np\n",
    "import pandas as pd\n",
    "from pandas import read_csv\n",
    "import matplotlib.pyplot as plt\n",
    "from matplotlib import cm\n",
    "import seaborn as sns\n",
    "import numpy as np\n",
    "import string \n",
    "from subprocess import check_output\n",
    "import seaborn as sns\n",
    "from pylab import *\n",
    "%matplotlib inline\n",
    "sns.set()"
   ]
  },
  {
   "cell_type": "code",
   "execution_count": 2,
   "metadata": {},
   "outputs": [],
   "source": [
    "# Lire la table avec 'header'\n",
    "df = pd.read_csv('Hmvl33.csv', sep=';', engine='python')"
   ]
  },
  {
   "cell_type": "code",
   "execution_count": 3,
   "metadata": {},
   "outputs": [],
   "source": [
    "# Remplacer les NaN par des zeros dans trame_hmvl\n",
    "df.trame_hmvl.fillna('0', inplace=True)"
   ]
  },
  {
   "cell_type": "code",
   "execution_count": 4,
   "metadata": {},
   "outputs": [],
   "source": [
    "# Reindexer la dataframe\n",
    "df.index = range(len(df))"
   ]
  },
  {
   "cell_type": "code",
   "execution_count": 5,
   "metadata": {},
   "outputs": [],
   "source": [
    "#changeaons les noms de colonnes\n",
    "df.columns = ['code', 'id','equipement_id', 'date','trame']"
   ]
  },
  {
   "cell_type": "code",
   "execution_count": 6,
   "metadata": {},
   "outputs": [],
   "source": [
    "# On enlève les @\n",
    "df[\"trame\"] = df[\"trame\"].str.replace(\"@\", \"\")"
   ]
  },
  {
   "cell_type": "code",
   "execution_count": 7,
   "metadata": {},
   "outputs": [],
   "source": [
    "grouped = df.groupby('code')"
   ]
  },
  {
   "cell_type": "code",
   "execution_count": 9,
   "metadata": {},
   "outputs": [],
   "source": [
    "df = grouped.get_group('M7i')"
   ]
  },
  {
   "cell_type": "code",
   "execution_count": 10,
   "metadata": {},
   "outputs": [
    {
     "name": "stderr",
     "output_type": "stream",
     "text": [
      "C:\\Users\\oumayma.doughmi\\ANACONDA\\lib\\site-packages\\ipykernel_launcher.py:4: SettingWithCopyWarning: \n",
      "A value is trying to be set on a copy of a slice from a DataFrame.\n",
      "Try using .loc[row_indexer,col_indexer] = value instead\n",
      "\n",
      "See the caveats in the documentation: http://pandas.pydata.org/pandas-docs/stable/indexing.html#indexing-view-versus-copy\n",
      "  after removing the cwd from sys.path.\n"
     ]
    }
   ],
   "source": [
    "liste = [\"x0\",\"x1\",\"x2\",\"x3\",\"x4\",\"x5\",\"x6\",\"x7\",\"x8\",\"x9\",'x10']\n",
    "# Ajouter les colonnes, en séparant la colonne 'trame' \n",
    "for i in range(len(liste)):\n",
    "    df[liste[i]] = df[\"trame\"].str.slice(11*i,11*(i+1))"
   ]
  },
  {
   "cell_type": "code",
   "execution_count": 11,
   "metadata": {},
   "outputs": [],
   "source": [
    "# Supprimer les colonnes xj\n",
    "df0 = df.drop(['x3','x1','x2','x4','x5','x6','x7','x8', 'x9', 'x10', 'trame'], axis=1)\n",
    "# df1\n",
    "df1 = df.drop(['x3','x0','x2','x4','x5','x6','x7','x8', 'x9', 'x10',  'trame'], axis=1)\n",
    "df2 = df.drop(['x3','x1','x0','x4','x5','x6','x7','x8', 'x9', 'x10', 'trame'], axis=1)\n",
    "df3 = df.drop(['x0','x1','x2','x4','x5','x6','x7','x8', 'x9', 'x10', 'trame'], axis=1)\n",
    "df4 = df.drop(['x0','x1','x2','x3','x5','x6','x7','x8', 'x9', 'x10', 'trame'], axis=1)\n",
    "df5 = df.drop(['x0','x1','x2','x4','x3','x6','x7','x8', 'x9', 'x10', 'trame'], axis=1)\n",
    "df6 = df.drop(['x0','x1','x2','x4','x5','x3','x7','x8', 'x9', 'x10', 'trame'], axis=1)\n",
    "df7 = df.drop(['x0','x1','x2','x4','x5','x6','x3','x8', 'x9', 'x10', 'trame'], axis=1)\n",
    "df8 = df.drop(['x0','x1','x2','x4','x5','x6','x3','x7', 'x9', 'x10', 'trame'], axis=1)\n",
    "df9 = df.drop(['x0','x1','x2','x4','x5','x6','x3','x7', 'x8', 'x10',  'trame'], axis=1)\n",
    "\n",
    "df10 = df.drop(['x0','x1','x2','x4','x5','x6','x3','x7', 'x9', 'x8','trame'], axis=1)"
   ]
  },
  {
   "cell_type": "code",
   "execution_count": 12,
   "metadata": {},
   "outputs": [],
   "source": [
    "liste = [\"x0\",\"x1\",\"x2\",\"x3\",\"x4\",\"x5\",\"x6\",\"x7\",\"x8\",\"x9\",'x10']\n",
    "liste2 = [df0,df1,df2,df3,df4,df5,df6,df7,df8,df9,df10]\n",
    "\n",
    "    # Séparer la colonne xi en 4 colonnes  \n",
    "for i, f in zip(range( len(liste)), liste2):\n",
    "    f[\"voie\"] = f[liste[i]].str.slice(0,1)\n",
    "    f[\"horodatage\"] = f[liste[i]].str.slice(1,5)\n",
    "    f[\"vitesse\"] = f[liste[i]].str.slice(5,8)\n",
    "    f[\"longueur\"] = f[liste[i]].str.slice(8,11)"
   ]
  },
  {
   "cell_type": "code",
   "execution_count": 13,
   "metadata": {},
   "outputs": [],
   "source": [
    "# rename columns\n",
    "for i,f in zip(range( len(liste)), liste2):\n",
    "    \n",
    "    f.rename(columns={liste[i]:'x'}, inplace=True)"
   ]
  },
  {
   "cell_type": "code",
   "execution_count": 14,
   "metadata": {},
   "outputs": [],
   "source": [
    "# Concatener les data\n",
    "result = pd.concat(liste2)"
   ]
  },
  {
   "cell_type": "code",
   "execution_count": 15,
   "metadata": {},
   "outputs": [],
   "source": [
    "# On ajoute une colonne Count pour compter chacune\n",
    "result['len'] = result['x'].str.len()\n",
    "# Eliminer les lignes = 0 et 1\n",
    "result = result[result.len != 0]\n",
    "result = result[result.len != 1]"
   ]
  },
  {
   "cell_type": "code",
   "execution_count": 16,
   "metadata": {},
   "outputs": [
    {
     "data": {
      "text/html": [
       "<div>\n",
       "<style scoped>\n",
       "    .dataframe tbody tr th:only-of-type {\n",
       "        vertical-align: middle;\n",
       "    }\n",
       "\n",
       "    .dataframe tbody tr th {\n",
       "        vertical-align: top;\n",
       "    }\n",
       "\n",
       "    .dataframe thead th {\n",
       "        text-align: right;\n",
       "    }\n",
       "</style>\n",
       "<table border=\"1\" class=\"dataframe\">\n",
       "  <thead>\n",
       "    <tr style=\"text-align: right;\">\n",
       "      <th></th>\n",
       "      <th>code</th>\n",
       "      <th>id</th>\n",
       "      <th>equipement_id</th>\n",
       "      <th>date</th>\n",
       "      <th>x</th>\n",
       "      <th>voie</th>\n",
       "      <th>horodatage</th>\n",
       "      <th>vitesse</th>\n",
       "      <th>longueur</th>\n",
       "      <th>len</th>\n",
       "    </tr>\n",
       "  </thead>\n",
       "  <tbody>\n",
       "    <tr>\n",
       "      <th>0</th>\n",
       "      <td>M7i</td>\n",
       "      <td>6460</td>\n",
       "      <td>6460</td>\n",
       "      <td>2019-02-18 00:00:15.049</td>\n",
       "      <td>14148093033</td>\n",
       "      <td>1</td>\n",
       "      <td>4148</td>\n",
       "      <td>093</td>\n",
       "      <td>033</td>\n",
       "      <td>11</td>\n",
       "    </tr>\n",
       "    <tr>\n",
       "      <th>1</th>\n",
       "      <td>M7i</td>\n",
       "      <td>6460</td>\n",
       "      <td>6460</td>\n",
       "      <td>2019-02-18 00:00:26.549</td>\n",
       "      <td>05354096031</td>\n",
       "      <td>0</td>\n",
       "      <td>5354</td>\n",
       "      <td>096</td>\n",
       "      <td>031</td>\n",
       "      <td>11</td>\n",
       "    </tr>\n",
       "    <tr>\n",
       "      <th>2</th>\n",
       "      <td>M7i</td>\n",
       "      <td>6460</td>\n",
       "      <td>6460</td>\n",
       "      <td>2019-02-18 00:00:38.549</td>\n",
       "      <td>10050094039</td>\n",
       "      <td>1</td>\n",
       "      <td>0050</td>\n",
       "      <td>094</td>\n",
       "      <td>039</td>\n",
       "      <td>11</td>\n",
       "    </tr>\n",
       "    <tr>\n",
       "      <th>3</th>\n",
       "      <td>M7i</td>\n",
       "      <td>6460</td>\n",
       "      <td>6460</td>\n",
       "      <td>2019-02-18 00:00:50.548</td>\n",
       "      <td>01469102037</td>\n",
       "      <td>0</td>\n",
       "      <td>1469</td>\n",
       "      <td>102</td>\n",
       "      <td>037</td>\n",
       "      <td>11</td>\n",
       "    </tr>\n",
       "    <tr>\n",
       "      <th>4</th>\n",
       "      <td>M7i</td>\n",
       "      <td>6460</td>\n",
       "      <td>6460</td>\n",
       "      <td>2019-02-18 00:00:56.549</td>\n",
       "      <td>11973117040</td>\n",
       "      <td>1</td>\n",
       "      <td>1973</td>\n",
       "      <td>117</td>\n",
       "      <td>040</td>\n",
       "      <td>11</td>\n",
       "    </tr>\n",
       "  </tbody>\n",
       "</table>\n",
       "</div>"
      ],
      "text/plain": [
       "  code    id  equipement_id                     date            x voie  \\\n",
       "0  M7i  6460           6460  2019-02-18 00:00:15.049  14148093033    1   \n",
       "1  M7i  6460           6460  2019-02-18 00:00:26.549  05354096031    0   \n",
       "2  M7i  6460           6460  2019-02-18 00:00:38.549  10050094039    1   \n",
       "3  M7i  6460           6460  2019-02-18 00:00:50.548  01469102037    0   \n",
       "4  M7i  6460           6460  2019-02-18 00:00:56.549  11973117040    1   \n",
       "\n",
       "  horodatage vitesse longueur  len  \n",
       "0       4148     093      033   11  \n",
       "1       5354     096      031   11  \n",
       "2       0050     094      039   11  \n",
       "3       1469     102      037   11  \n",
       "4       1973     117      040   11  "
      ]
     },
     "execution_count": 16,
     "metadata": {},
     "output_type": "execute_result"
    }
   ],
   "source": [
    "# Reindexer la dataframe\n",
    "result.index = range(len(result))\n",
    "result.head()"
   ]
  },
  {
   "cell_type": "code",
   "execution_count": 17,
   "metadata": {},
   "outputs": [],
   "source": [
    "df = result.drop(['equipement_id','len', 'x'], axis=1)"
   ]
  },
  {
   "cell_type": "code",
   "execution_count": 18,
   "metadata": {},
   "outputs": [],
   "source": [
    "#Exporter la table\n",
    "df.to_csv('M7i_5sc.csv', index = False, encoding = 'utf-8')"
   ]
  },
  {
   "cell_type": "markdown",
   "metadata": {},
   "source": [
    "### Rassembler les données par tranche de 6mn\n"
   ]
  },
  {
   "cell_type": "code",
   "execution_count": 19,
   "metadata": {},
   "outputs": [],
   "source": [
    "df['vitesse'] = pd.to_numeric(df['vitesse'] ,errors='coerce')"
   ]
  },
  {
   "cell_type": "code",
   "execution_count": 20,
   "metadata": {},
   "outputs": [],
   "source": [
    "# library datetime\n",
    "from datetime import datetime\n",
    "from pandas import datetime"
   ]
  },
  {
   "cell_type": "code",
   "execution_count": 22,
   "metadata": {},
   "outputs": [],
   "source": [
    "df['date'] = pd.to_datetime(df['date'])"
   ]
  },
  {
   "cell_type": "code",
   "execution_count": 23,
   "metadata": {},
   "outputs": [
    {
     "name": "stderr",
     "output_type": "stream",
     "text": [
      "C:\\Users\\oumayma.doughmi\\ANACONDA\\lib\\site-packages\\ipykernel_launcher.py:1: FutureWarning: how in .resample() is deprecated\n",
      "the new syntax is .resample(...).count()\n",
      "  \"\"\"Entry point for launching an IPython kernel.\n"
     ]
    }
   ],
   "source": [
    "df1 = df.set_index('date').resample('6T', 'count')"
   ]
  },
  {
   "cell_type": "code",
   "execution_count": 24,
   "metadata": {},
   "outputs": [
    {
     "data": {
      "text/html": [
       "<div>\n",
       "<style scoped>\n",
       "    .dataframe tbody tr th:only-of-type {\n",
       "        vertical-align: middle;\n",
       "    }\n",
       "\n",
       "    .dataframe tbody tr th {\n",
       "        vertical-align: top;\n",
       "    }\n",
       "\n",
       "    .dataframe thead th {\n",
       "        text-align: right;\n",
       "    }\n",
       "</style>\n",
       "<table border=\"1\" class=\"dataframe\">\n",
       "  <thead>\n",
       "    <tr style=\"text-align: right;\">\n",
       "      <th></th>\n",
       "      <th>code</th>\n",
       "      <th>id</th>\n",
       "      <th>voie</th>\n",
       "      <th>horodatage</th>\n",
       "      <th>vitesse</th>\n",
       "      <th>longueur</th>\n",
       "    </tr>\n",
       "    <tr>\n",
       "      <th>date</th>\n",
       "      <th></th>\n",
       "      <th></th>\n",
       "      <th></th>\n",
       "      <th></th>\n",
       "      <th></th>\n",
       "      <th></th>\n",
       "    </tr>\n",
       "  </thead>\n",
       "  <tbody>\n",
       "    <tr>\n",
       "      <th>2019-02-18 00:00:00</th>\n",
       "      <td>42</td>\n",
       "      <td>42</td>\n",
       "      <td>42</td>\n",
       "      <td>42</td>\n",
       "      <td>42</td>\n",
       "      <td>42</td>\n",
       "    </tr>\n",
       "    <tr>\n",
       "      <th>2019-02-18 00:06:00</th>\n",
       "      <td>36</td>\n",
       "      <td>36</td>\n",
       "      <td>36</td>\n",
       "      <td>36</td>\n",
       "      <td>35</td>\n",
       "      <td>36</td>\n",
       "    </tr>\n",
       "    <tr>\n",
       "      <th>2019-02-18 00:12:00</th>\n",
       "      <td>30</td>\n",
       "      <td>30</td>\n",
       "      <td>30</td>\n",
       "      <td>30</td>\n",
       "      <td>30</td>\n",
       "      <td>30</td>\n",
       "    </tr>\n",
       "    <tr>\n",
       "      <th>2019-02-18 00:18:00</th>\n",
       "      <td>22</td>\n",
       "      <td>22</td>\n",
       "      <td>22</td>\n",
       "      <td>22</td>\n",
       "      <td>22</td>\n",
       "      <td>22</td>\n",
       "    </tr>\n",
       "    <tr>\n",
       "      <th>2019-02-18 00:24:00</th>\n",
       "      <td>23</td>\n",
       "      <td>23</td>\n",
       "      <td>23</td>\n",
       "      <td>23</td>\n",
       "      <td>23</td>\n",
       "      <td>23</td>\n",
       "    </tr>\n",
       "  </tbody>\n",
       "</table>\n",
       "</div>"
      ],
      "text/plain": [
       "                     code  id  voie  horodatage  vitesse  longueur\n",
       "date                                                              \n",
       "2019-02-18 00:00:00    42  42    42          42       42        42\n",
       "2019-02-18 00:06:00    36  36    36          36       35        36\n",
       "2019-02-18 00:12:00    30  30    30          30       30        30\n",
       "2019-02-18 00:18:00    22  22    22          22       22        22\n",
       "2019-02-18 00:24:00    23  23    23          23       23        23"
      ]
     },
     "execution_count": 24,
     "metadata": {},
     "output_type": "execute_result"
    }
   ],
   "source": [
    "df1.head()"
   ]
  },
  {
   "cell_type": "code",
   "execution_count": 25,
   "metadata": {},
   "outputs": [
    {
     "data": {
      "text/plain": [
       "1680"
      ]
     },
     "execution_count": 25,
     "metadata": {},
     "output_type": "execute_result"
    }
   ],
   "source": [
    "len(df1)"
   ]
  },
  {
   "cell_type": "code",
   "execution_count": 26,
   "metadata": {},
   "outputs": [],
   "source": [
    "df1 = df1.drop(['code','horodatage', 'id', 'voie', 'vitesse'], axis=1)"
   ]
  },
  {
   "cell_type": "code",
   "execution_count": 27,
   "metadata": {},
   "outputs": [],
   "source": [
    "# Set the datetime column as the index\n",
    "df.index = df['date']"
   ]
  },
  {
   "cell_type": "code",
   "execution_count": 35,
   "metadata": {},
   "outputs": [],
   "source": [
    "df2 = df.resample('6T')['vitesse'].mean()\n",
    "# Conevertir la serie 'd' to dataframe\n",
    "df2 = pd.DataFrame(df2)"
   ]
  },
  {
   "cell_type": "code",
   "execution_count": 36,
   "metadata": {},
   "outputs": [
    {
     "data": {
      "text/plain": [
       "1680"
      ]
     },
     "execution_count": 36,
     "metadata": {},
     "output_type": "execute_result"
    }
   ],
   "source": [
    "len(df2)"
   ]
  },
  {
   "cell_type": "code",
   "execution_count": 37,
   "metadata": {},
   "outputs": [
    {
     "data": {
      "text/html": [
       "<div>\n",
       "<style scoped>\n",
       "    .dataframe tbody tr th:only-of-type {\n",
       "        vertical-align: middle;\n",
       "    }\n",
       "\n",
       "    .dataframe tbody tr th {\n",
       "        vertical-align: top;\n",
       "    }\n",
       "\n",
       "    .dataframe thead th {\n",
       "        text-align: right;\n",
       "    }\n",
       "</style>\n",
       "<table border=\"1\" class=\"dataframe\">\n",
       "  <thead>\n",
       "    <tr style=\"text-align: right;\">\n",
       "      <th></th>\n",
       "      <th>vitesse</th>\n",
       "    </tr>\n",
       "    <tr>\n",
       "      <th>date</th>\n",
       "      <th></th>\n",
       "    </tr>\n",
       "  </thead>\n",
       "  <tbody>\n",
       "    <tr>\n",
       "      <th>2019-02-18 00:00:00</th>\n",
       "      <td>107.000000</td>\n",
       "    </tr>\n",
       "    <tr>\n",
       "      <th>2019-02-18 00:06:00</th>\n",
       "      <td>104.685714</td>\n",
       "    </tr>\n",
       "    <tr>\n",
       "      <th>2019-02-18 00:12:00</th>\n",
       "      <td>104.366667</td>\n",
       "    </tr>\n",
       "    <tr>\n",
       "      <th>2019-02-18 00:18:00</th>\n",
       "      <td>100.272727</td>\n",
       "    </tr>\n",
       "    <tr>\n",
       "      <th>2019-02-18 00:24:00</th>\n",
       "      <td>103.304348</td>\n",
       "    </tr>\n",
       "  </tbody>\n",
       "</table>\n",
       "</div>"
      ],
      "text/plain": [
       "                        vitesse\n",
       "date                           \n",
       "2019-02-18 00:00:00  107.000000\n",
       "2019-02-18 00:06:00  104.685714\n",
       "2019-02-18 00:12:00  104.366667\n",
       "2019-02-18 00:18:00  100.272727\n",
       "2019-02-18 00:24:00  103.304348"
      ]
     },
     "execution_count": 37,
     "metadata": {},
     "output_type": "execute_result"
    }
   ],
   "source": [
    "df2.head()"
   ]
  },
  {
   "cell_type": "code",
   "execution_count": 34,
   "metadata": {},
   "outputs": [
    {
     "data": {
      "text/plain": [
       "pandas.core.series.Series"
      ]
     },
     "execution_count": 34,
     "metadata": {},
     "output_type": "execute_result"
    }
   ],
   "source": [
    "type(df2)"
   ]
  },
  {
   "cell_type": "code",
   "execution_count": 38,
   "metadata": {},
   "outputs": [],
   "source": [
    "result = pd.concat([df1, df2], axis=1, sort=False)"
   ]
  },
  {
   "cell_type": "code",
   "execution_count": 46,
   "metadata": {},
   "outputs": [
    {
     "data": {
      "text/html": [
       "<div>\n",
       "<style scoped>\n",
       "    .dataframe tbody tr th:only-of-type {\n",
       "        vertical-align: middle;\n",
       "    }\n",
       "\n",
       "    .dataframe tbody tr th {\n",
       "        vertical-align: top;\n",
       "    }\n",
       "\n",
       "    .dataframe thead th {\n",
       "        text-align: right;\n",
       "    }\n",
       "</style>\n",
       "<table border=\"1\" class=\"dataframe\">\n",
       "  <thead>\n",
       "    <tr style=\"text-align: right;\">\n",
       "      <th></th>\n",
       "      <th>veh_6mn</th>\n",
       "      <th>vitesse</th>\n",
       "    </tr>\n",
       "    <tr>\n",
       "      <th>date</th>\n",
       "      <th></th>\n",
       "      <th></th>\n",
       "    </tr>\n",
       "  </thead>\n",
       "  <tbody>\n",
       "    <tr>\n",
       "      <th>2019-02-18 00:00:00</th>\n",
       "      <td>42</td>\n",
       "      <td>107.000000</td>\n",
       "    </tr>\n",
       "    <tr>\n",
       "      <th>2019-02-18 00:06:00</th>\n",
       "      <td>36</td>\n",
       "      <td>104.685714</td>\n",
       "    </tr>\n",
       "    <tr>\n",
       "      <th>2019-02-18 00:12:00</th>\n",
       "      <td>30</td>\n",
       "      <td>104.366667</td>\n",
       "    </tr>\n",
       "    <tr>\n",
       "      <th>2019-02-18 00:18:00</th>\n",
       "      <td>22</td>\n",
       "      <td>100.272727</td>\n",
       "    </tr>\n",
       "    <tr>\n",
       "      <th>2019-02-18 00:24:00</th>\n",
       "      <td>23</td>\n",
       "      <td>103.304348</td>\n",
       "    </tr>\n",
       "  </tbody>\n",
       "</table>\n",
       "</div>"
      ],
      "text/plain": [
       "                     veh_6mn     vitesse\n",
       "date                                    \n",
       "2019-02-18 00:00:00       42  107.000000\n",
       "2019-02-18 00:06:00       36  104.685714\n",
       "2019-02-18 00:12:00       30  104.366667\n",
       "2019-02-18 00:18:00       22  100.272727\n",
       "2019-02-18 00:24:00       23  103.304348"
      ]
     },
     "execution_count": 46,
     "metadata": {},
     "output_type": "execute_result"
    }
   ],
   "source": [
    "result.columns = ['veh_6mn', 'vitesse']\n",
    "result.head()"
   ]
  },
  {
   "cell_type": "code",
   "execution_count": 48,
   "metadata": {},
   "outputs": [],
   "source": [
    "result['débit'] = result['veh_6mn']*10"
   ]
  },
  {
   "cell_type": "code",
   "execution_count": 49,
   "metadata": {},
   "outputs": [
    {
     "data": {
      "text/html": [
       "<div>\n",
       "<style scoped>\n",
       "    .dataframe tbody tr th:only-of-type {\n",
       "        vertical-align: middle;\n",
       "    }\n",
       "\n",
       "    .dataframe tbody tr th {\n",
       "        vertical-align: top;\n",
       "    }\n",
       "\n",
       "    .dataframe thead th {\n",
       "        text-align: right;\n",
       "    }\n",
       "</style>\n",
       "<table border=\"1\" class=\"dataframe\">\n",
       "  <thead>\n",
       "    <tr style=\"text-align: right;\">\n",
       "      <th></th>\n",
       "      <th>veh_6mn</th>\n",
       "      <th>vitesse</th>\n",
       "      <th>débit</th>\n",
       "    </tr>\n",
       "    <tr>\n",
       "      <th>date</th>\n",
       "      <th></th>\n",
       "      <th></th>\n",
       "      <th></th>\n",
       "    </tr>\n",
       "  </thead>\n",
       "  <tbody>\n",
       "    <tr>\n",
       "      <th>2019-02-18 00:00:00</th>\n",
       "      <td>42</td>\n",
       "      <td>107.000000</td>\n",
       "      <td>420</td>\n",
       "    </tr>\n",
       "    <tr>\n",
       "      <th>2019-02-18 00:06:00</th>\n",
       "      <td>36</td>\n",
       "      <td>104.685714</td>\n",
       "      <td>360</td>\n",
       "    </tr>\n",
       "    <tr>\n",
       "      <th>2019-02-18 00:12:00</th>\n",
       "      <td>30</td>\n",
       "      <td>104.366667</td>\n",
       "      <td>300</td>\n",
       "    </tr>\n",
       "    <tr>\n",
       "      <th>2019-02-18 00:18:00</th>\n",
       "      <td>22</td>\n",
       "      <td>100.272727</td>\n",
       "      <td>220</td>\n",
       "    </tr>\n",
       "    <tr>\n",
       "      <th>2019-02-18 00:24:00</th>\n",
       "      <td>23</td>\n",
       "      <td>103.304348</td>\n",
       "      <td>230</td>\n",
       "    </tr>\n",
       "  </tbody>\n",
       "</table>\n",
       "</div>"
      ],
      "text/plain": [
       "                     veh_6mn     vitesse  débit\n",
       "date                                           \n",
       "2019-02-18 00:00:00       42  107.000000    420\n",
       "2019-02-18 00:06:00       36  104.685714    360\n",
       "2019-02-18 00:12:00       30  104.366667    300\n",
       "2019-02-18 00:18:00       22  100.272727    220\n",
       "2019-02-18 00:24:00       23  103.304348    230"
      ]
     },
     "execution_count": 49,
     "metadata": {},
     "output_type": "execute_result"
    }
   ],
   "source": [
    "result.head()"
   ]
  },
  {
   "cell_type": "code",
   "execution_count": 50,
   "metadata": {},
   "outputs": [],
   "source": [
    "# Reindexer la table\n",
    "result['date'] = result.index\n",
    "result.index = range(len(result))"
   ]
  },
  {
   "cell_type": "markdown",
   "metadata": {},
   "source": [
    "## Données 6mn 2016 :"
   ]
  },
  {
   "cell_type": "code",
   "execution_count": 87,
   "metadata": {},
   "outputs": [],
   "source": [
    "# Lire la table avec 'header'\n",
    "df = pd.read_csv('dfA7_6mn.csv', sep=',', engine='python')"
   ]
  },
  {
   "cell_type": "code",
   "execution_count": 88,
   "metadata": {},
   "outputs": [],
   "source": [
    "#Identifier les donnees de chaque stations\n",
    "groupe = df.groupby('Code')\n",
    "M7i = groupe.get_group('M7i')\n",
    "df = pd.DataFrame(M7i)"
   ]
  },
  {
   "cell_type": "code",
   "execution_count": 89,
   "metadata": {},
   "outputs": [
    {
     "data": {
      "text/html": [
       "<div>\n",
       "<style scoped>\n",
       "    .dataframe tbody tr th:only-of-type {\n",
       "        vertical-align: middle;\n",
       "    }\n",
       "\n",
       "    .dataframe tbody tr th {\n",
       "        vertical-align: top;\n",
       "    }\n",
       "\n",
       "    .dataframe thead th {\n",
       "        text-align: right;\n",
       "    }\n",
       "</style>\n",
       "<table border=\"1\" class=\"dataframe\">\n",
       "  <thead>\n",
       "    <tr style=\"text-align: right;\">\n",
       "      <th></th>\n",
       "      <th>rgs</th>\n",
       "      <th>pr</th>\n",
       "      <th>m</th>\n",
       "      <th>js</th>\n",
       "      <th>jma</th>\n",
       "      <th>hhmm</th>\n",
       "      <th>To</th>\n",
       "      <th>Q</th>\n",
       "      <th>Vitesse</th>\n",
       "      <th>A</th>\n",
       "      <th>Code</th>\n",
       "    </tr>\n",
       "  </thead>\n",
       "  <tbody>\n",
       "    <tr>\n",
       "      <th>2</th>\n",
       "      <td>709#M7i</td>\n",
       "      <td>264</td>\n",
       "      <td>687</td>\n",
       "      <td>Ve</td>\n",
       "      <td>01/01/16</td>\n",
       "      <td>00:00</td>\n",
       "      <td>2</td>\n",
       "      <td>510</td>\n",
       "      <td>99</td>\n",
       "      <td>709</td>\n",
       "      <td>M7i</td>\n",
       "    </tr>\n",
       "    <tr>\n",
       "      <th>23</th>\n",
       "      <td>709#M7i</td>\n",
       "      <td>264</td>\n",
       "      <td>687</td>\n",
       "      <td>Ve</td>\n",
       "      <td>01/01/16</td>\n",
       "      <td>00:06</td>\n",
       "      <td>1</td>\n",
       "      <td>310</td>\n",
       "      <td>95</td>\n",
       "      <td>709</td>\n",
       "      <td>M7i</td>\n",
       "    </tr>\n",
       "    <tr>\n",
       "      <th>44</th>\n",
       "      <td>709#M7i</td>\n",
       "      <td>264</td>\n",
       "      <td>687</td>\n",
       "      <td>Ve</td>\n",
       "      <td>01/01/16</td>\n",
       "      <td>00:12</td>\n",
       "      <td>1</td>\n",
       "      <td>230</td>\n",
       "      <td>99</td>\n",
       "      <td>709</td>\n",
       "      <td>M7i</td>\n",
       "    </tr>\n",
       "    <tr>\n",
       "      <th>65</th>\n",
       "      <td>709#M7i</td>\n",
       "      <td>264</td>\n",
       "      <td>687</td>\n",
       "      <td>Ve</td>\n",
       "      <td>01/01/16</td>\n",
       "      <td>00:18</td>\n",
       "      <td>1</td>\n",
       "      <td>380</td>\n",
       "      <td>93</td>\n",
       "      <td>709</td>\n",
       "      <td>M7i</td>\n",
       "    </tr>\n",
       "    <tr>\n",
       "      <th>86</th>\n",
       "      <td>709#M7i</td>\n",
       "      <td>264</td>\n",
       "      <td>687</td>\n",
       "      <td>Ve</td>\n",
       "      <td>01/01/16</td>\n",
       "      <td>00:24</td>\n",
       "      <td>2</td>\n",
       "      <td>620</td>\n",
       "      <td>94</td>\n",
       "      <td>709</td>\n",
       "      <td>M7i</td>\n",
       "    </tr>\n",
       "  </tbody>\n",
       "</table>\n",
       "</div>"
      ],
      "text/plain": [
       "        rgs   pr    m  js       jma   hhmm  To    Q  Vitesse    A Code\n",
       "2   709#M7i  264  687  Ve  01/01/16  00:00   2  510       99  709  M7i\n",
       "23  709#M7i  264  687  Ve  01/01/16  00:06   1  310       95  709  M7i\n",
       "44  709#M7i  264  687  Ve  01/01/16  00:12   1  230       99  709  M7i\n",
       "65  709#M7i  264  687  Ve  01/01/16  00:18   1  380       93  709  M7i\n",
       "86  709#M7i  264  687  Ve  01/01/16  00:24   2  620       94  709  M7i"
      ]
     },
     "execution_count": 89,
     "metadata": {},
     "output_type": "execute_result"
    }
   ],
   "source": [
    "df.head()"
   ]
  },
  {
   "cell_type": "code",
   "execution_count": 90,
   "metadata": {},
   "outputs": [],
   "source": [
    "df = df.drop(['pr','m', 'js', 'rgs', 'To', 'A', 'Code'], axis=1)"
   ]
  },
  {
   "cell_type": "code",
   "execution_count": 91,
   "metadata": {},
   "outputs": [],
   "source": [
    "df.columns = ['jma', 'hhmm', 'débit', 'vitesse']\n",
    "df.index = range(len(df))"
   ]
  },
  {
   "cell_type": "markdown",
   "metadata": {},
   "source": [
    "## Extraire les données :"
   ]
  },
  {
   "cell_type": "code",
   "execution_count": null,
   "metadata": {},
   "outputs": [],
   "source": [
    "df2 = df[df['Date'] > dt.datetime(2016,2,18)]\n",
    "df1 = df[df['Date'] <= dt.datetime(2012,2,24)]\n",
    "# merge"
   ]
  },
  {
   "cell_type": "code",
   "execution_count": 92,
   "metadata": {},
   "outputs": [],
   "source": [
    "df['jma'] = pd.to_datetime(df['jma'])\n",
    "#df['date'] =  pd.to_datetime(df['jma'], format='%m/%d/%Y')"
   ]
  },
  {
   "cell_type": "code",
   "execution_count": 96,
   "metadata": {
    "scrolled": true
   },
   "outputs": [
    {
     "ename": "TypeError",
     "evalue": "cannot do slice indexing on <class 'pandas.core.indexes.range.RangeIndex'> with these indexers [2016-18-02] of <class 'str'>",
     "output_type": "error",
     "traceback": [
      "\u001b[1;31m---------------------------------------------------------------------------\u001b[0m",
      "\u001b[1;31mTypeError\u001b[0m                                 Traceback (most recent call last)",
      "\u001b[1;32m<ipython-input-96-b430f929ef6f>\u001b[0m in \u001b[0;36m<module>\u001b[1;34m\u001b[0m\n\u001b[1;32m----> 1\u001b[1;33m \u001b[0mdf\u001b[0m\u001b[1;33m[\u001b[0m\u001b[1;34m'2016-18-02'\u001b[0m\u001b[1;33m:\u001b[0m\u001b[1;34m'2016-24-02'\u001b[0m\u001b[1;33m]\u001b[0m\u001b[1;33m\u001b[0m\u001b[1;33m\u001b[0m\u001b[0m\n\u001b[0m",
      "\u001b[1;32m~\\ANACONDA\\lib\\site-packages\\pandas\\core\\frame.py\u001b[0m in \u001b[0;36m__getitem__\u001b[1;34m(self, key)\u001b[0m\n\u001b[0;32m   2906\u001b[0m \u001b[1;33m\u001b[0m\u001b[0m\n\u001b[0;32m   2907\u001b[0m         \u001b[1;31m# Do we have a slicer (on rows)?\u001b[0m\u001b[1;33m\u001b[0m\u001b[1;33m\u001b[0m\u001b[1;33m\u001b[0m\u001b[0m\n\u001b[1;32m-> 2908\u001b[1;33m         \u001b[0mindexer\u001b[0m \u001b[1;33m=\u001b[0m \u001b[0mconvert_to_index_sliceable\u001b[0m\u001b[1;33m(\u001b[0m\u001b[0mself\u001b[0m\u001b[1;33m,\u001b[0m \u001b[0mkey\u001b[0m\u001b[1;33m)\u001b[0m\u001b[1;33m\u001b[0m\u001b[1;33m\u001b[0m\u001b[0m\n\u001b[0m\u001b[0;32m   2909\u001b[0m         \u001b[1;32mif\u001b[0m \u001b[0mindexer\u001b[0m \u001b[1;32mis\u001b[0m \u001b[1;32mnot\u001b[0m \u001b[1;32mNone\u001b[0m\u001b[1;33m:\u001b[0m\u001b[1;33m\u001b[0m\u001b[1;33m\u001b[0m\u001b[0m\n\u001b[0;32m   2910\u001b[0m             \u001b[1;32mreturn\u001b[0m \u001b[0mself\u001b[0m\u001b[1;33m.\u001b[0m\u001b[0m_slice\u001b[0m\u001b[1;33m(\u001b[0m\u001b[0mindexer\u001b[0m\u001b[1;33m,\u001b[0m \u001b[0maxis\u001b[0m\u001b[1;33m=\u001b[0m\u001b[1;36m0\u001b[0m\u001b[1;33m)\u001b[0m\u001b[1;33m\u001b[0m\u001b[1;33m\u001b[0m\u001b[0m\n",
      "\u001b[1;32m~\\ANACONDA\\lib\\site-packages\\pandas\\core\\indexing.py\u001b[0m in \u001b[0;36mconvert_to_index_sliceable\u001b[1;34m(obj, key)\u001b[0m\n\u001b[0;32m   2454\u001b[0m     \u001b[0midx\u001b[0m \u001b[1;33m=\u001b[0m \u001b[0mobj\u001b[0m\u001b[1;33m.\u001b[0m\u001b[0mindex\u001b[0m\u001b[1;33m\u001b[0m\u001b[1;33m\u001b[0m\u001b[0m\n\u001b[0;32m   2455\u001b[0m     \u001b[1;32mif\u001b[0m \u001b[0misinstance\u001b[0m\u001b[1;33m(\u001b[0m\u001b[0mkey\u001b[0m\u001b[1;33m,\u001b[0m \u001b[0mslice\u001b[0m\u001b[1;33m)\u001b[0m\u001b[1;33m:\u001b[0m\u001b[1;33m\u001b[0m\u001b[1;33m\u001b[0m\u001b[0m\n\u001b[1;32m-> 2456\u001b[1;33m         \u001b[1;32mreturn\u001b[0m \u001b[0midx\u001b[0m\u001b[1;33m.\u001b[0m\u001b[0m_convert_slice_indexer\u001b[0m\u001b[1;33m(\u001b[0m\u001b[0mkey\u001b[0m\u001b[1;33m,\u001b[0m \u001b[0mkind\u001b[0m\u001b[1;33m=\u001b[0m\u001b[1;34m'getitem'\u001b[0m\u001b[1;33m)\u001b[0m\u001b[1;33m\u001b[0m\u001b[1;33m\u001b[0m\u001b[0m\n\u001b[0m\u001b[0;32m   2457\u001b[0m \u001b[1;33m\u001b[0m\u001b[0m\n\u001b[0;32m   2458\u001b[0m     \u001b[1;32melif\u001b[0m \u001b[0misinstance\u001b[0m\u001b[1;33m(\u001b[0m\u001b[0mkey\u001b[0m\u001b[1;33m,\u001b[0m \u001b[0mcompat\u001b[0m\u001b[1;33m.\u001b[0m\u001b[0mstring_types\u001b[0m\u001b[1;33m)\u001b[0m\u001b[1;33m:\u001b[0m\u001b[1;33m\u001b[0m\u001b[1;33m\u001b[0m\u001b[0m\n",
      "\u001b[1;32m~\\ANACONDA\\lib\\site-packages\\pandas\\core\\indexes\\base.py\u001b[0m in \u001b[0;36m_convert_slice_indexer\u001b[1;34m(self, key, kind)\u001b[0m\n\u001b[0;32m   2926\u001b[0m             \"\"\"\n\u001b[0;32m   2927\u001b[0m             \u001b[1;32mif\u001b[0m \u001b[0mself\u001b[0m\u001b[1;33m.\u001b[0m\u001b[0mis_integer\u001b[0m\u001b[1;33m(\u001b[0m\u001b[1;33m)\u001b[0m \u001b[1;32mor\u001b[0m \u001b[0mis_index_slice\u001b[0m\u001b[1;33m:\u001b[0m\u001b[1;33m\u001b[0m\u001b[1;33m\u001b[0m\u001b[0m\n\u001b[1;32m-> 2928\u001b[1;33m                 return slice(self._validate_indexer('slice', key.start, kind),\n\u001b[0m\u001b[0;32m   2929\u001b[0m                              \u001b[0mself\u001b[0m\u001b[1;33m.\u001b[0m\u001b[0m_validate_indexer\u001b[0m\u001b[1;33m(\u001b[0m\u001b[1;34m'slice'\u001b[0m\u001b[1;33m,\u001b[0m \u001b[0mkey\u001b[0m\u001b[1;33m.\u001b[0m\u001b[0mstop\u001b[0m\u001b[1;33m,\u001b[0m \u001b[0mkind\u001b[0m\u001b[1;33m)\u001b[0m\u001b[1;33m,\u001b[0m\u001b[1;33m\u001b[0m\u001b[1;33m\u001b[0m\u001b[0m\n\u001b[0;32m   2930\u001b[0m                              self._validate_indexer('slice', key.step, kind))\n",
      "\u001b[1;32m~\\ANACONDA\\lib\\site-packages\\pandas\\core\\indexes\\base.py\u001b[0m in \u001b[0;36m_validate_indexer\u001b[1;34m(self, form, key, kind)\u001b[0m\n\u001b[0;32m   4708\u001b[0m             \u001b[1;32mpass\u001b[0m\u001b[1;33m\u001b[0m\u001b[1;33m\u001b[0m\u001b[0m\n\u001b[0;32m   4709\u001b[0m         \u001b[1;32melif\u001b[0m \u001b[0mkind\u001b[0m \u001b[1;32min\u001b[0m \u001b[1;33m[\u001b[0m\u001b[1;34m'iloc'\u001b[0m\u001b[1;33m,\u001b[0m \u001b[1;34m'getitem'\u001b[0m\u001b[1;33m]\u001b[0m\u001b[1;33m:\u001b[0m\u001b[1;33m\u001b[0m\u001b[1;33m\u001b[0m\u001b[0m\n\u001b[1;32m-> 4710\u001b[1;33m             \u001b[0mself\u001b[0m\u001b[1;33m.\u001b[0m\u001b[0m_invalid_indexer\u001b[0m\u001b[1;33m(\u001b[0m\u001b[0mform\u001b[0m\u001b[1;33m,\u001b[0m \u001b[0mkey\u001b[0m\u001b[1;33m)\u001b[0m\u001b[1;33m\u001b[0m\u001b[1;33m\u001b[0m\u001b[0m\n\u001b[0m\u001b[0;32m   4711\u001b[0m         \u001b[1;32mreturn\u001b[0m \u001b[0mkey\u001b[0m\u001b[1;33m\u001b[0m\u001b[1;33m\u001b[0m\u001b[0m\n\u001b[0;32m   4712\u001b[0m \u001b[1;33m\u001b[0m\u001b[0m\n",
      "\u001b[1;32m~\\ANACONDA\\lib\\site-packages\\pandas\\core\\indexes\\base.py\u001b[0m in \u001b[0;36m_invalid_indexer\u001b[1;34m(self, form, key)\u001b[0m\n\u001b[0;32m   3065\u001b[0m                         \"indexers [{key}] of {kind}\".format(\n\u001b[0;32m   3066\u001b[0m                             \u001b[0mform\u001b[0m\u001b[1;33m=\u001b[0m\u001b[0mform\u001b[0m\u001b[1;33m,\u001b[0m \u001b[0mklass\u001b[0m\u001b[1;33m=\u001b[0m\u001b[0mtype\u001b[0m\u001b[1;33m(\u001b[0m\u001b[0mself\u001b[0m\u001b[1;33m)\u001b[0m\u001b[1;33m,\u001b[0m \u001b[0mkey\u001b[0m\u001b[1;33m=\u001b[0m\u001b[0mkey\u001b[0m\u001b[1;33m,\u001b[0m\u001b[1;33m\u001b[0m\u001b[1;33m\u001b[0m\u001b[0m\n\u001b[1;32m-> 3067\u001b[1;33m                             kind=type(key)))\n\u001b[0m\u001b[0;32m   3068\u001b[0m \u001b[1;33m\u001b[0m\u001b[0m\n\u001b[0;32m   3069\u001b[0m     \u001b[1;31m# --------------------------------------------------------------------\u001b[0m\u001b[1;33m\u001b[0m\u001b[1;33m\u001b[0m\u001b[1;33m\u001b[0m\u001b[0m\n",
      "\u001b[1;31mTypeError\u001b[0m: cannot do slice indexing on <class 'pandas.core.indexes.range.RangeIndex'> with these indexers [2016-18-02] of <class 'str'>"
     ]
    }
   ],
   "source": [
    "df['2016-18-02':'2016-24-02']"
   ]
  },
  {
   "cell_type": "code",
   "execution_count": 106,
   "metadata": {},
   "outputs": [
    {
     "data": {
      "text/html": [
       "<div>\n",
       "<style scoped>\n",
       "    .dataframe tbody tr th:only-of-type {\n",
       "        vertical-align: middle;\n",
       "    }\n",
       "\n",
       "    .dataframe tbody tr th {\n",
       "        vertical-align: top;\n",
       "    }\n",
       "\n",
       "    .dataframe thead th {\n",
       "        text-align: right;\n",
       "    }\n",
       "</style>\n",
       "<table border=\"1\" class=\"dataframe\">\n",
       "  <thead>\n",
       "    <tr style=\"text-align: right;\">\n",
       "      <th></th>\n",
       "      <th>jma</th>\n",
       "      <th>hhmm</th>\n",
       "      <th>débit</th>\n",
       "      <th>vitesse</th>\n",
       "    </tr>\n",
       "  </thead>\n",
       "  <tbody>\n",
       "    <tr>\n",
       "      <th>470</th>\n",
       "      <td>2016-02-01</td>\n",
       "      <td>23:00</td>\n",
       "      <td>740</td>\n",
       "      <td>99</td>\n",
       "    </tr>\n",
       "    <tr>\n",
       "      <th>471</th>\n",
       "      <td>2016-02-01</td>\n",
       "      <td>23:06</td>\n",
       "      <td>720</td>\n",
       "      <td>97</td>\n",
       "    </tr>\n",
       "    <tr>\n",
       "      <th>472</th>\n",
       "      <td>2016-02-01</td>\n",
       "      <td>23:12</td>\n",
       "      <td>800</td>\n",
       "      <td>99</td>\n",
       "    </tr>\n",
       "    <tr>\n",
       "      <th>473</th>\n",
       "      <td>2016-02-01</td>\n",
       "      <td>23:18</td>\n",
       "      <td>690</td>\n",
       "      <td>98</td>\n",
       "    </tr>\n",
       "    <tr>\n",
       "      <th>474</th>\n",
       "      <td>2016-02-01</td>\n",
       "      <td>23:24</td>\n",
       "      <td>690</td>\n",
       "      <td>100</td>\n",
       "    </tr>\n",
       "    <tr>\n",
       "      <th>475</th>\n",
       "      <td>2016-02-01</td>\n",
       "      <td>23:30</td>\n",
       "      <td>700</td>\n",
       "      <td>101</td>\n",
       "    </tr>\n",
       "    <tr>\n",
       "      <th>476</th>\n",
       "      <td>2016-02-01</td>\n",
       "      <td>23:36</td>\n",
       "      <td>700</td>\n",
       "      <td>101</td>\n",
       "    </tr>\n",
       "    <tr>\n",
       "      <th>477</th>\n",
       "      <td>2016-02-01</td>\n",
       "      <td>23:42</td>\n",
       "      <td>580</td>\n",
       "      <td>100</td>\n",
       "    </tr>\n",
       "    <tr>\n",
       "      <th>478</th>\n",
       "      <td>2016-02-01</td>\n",
       "      <td>23:48</td>\n",
       "      <td>760</td>\n",
       "      <td>103</td>\n",
       "    </tr>\n",
       "    <tr>\n",
       "      <th>479</th>\n",
       "      <td>2016-02-01</td>\n",
       "      <td>23:54</td>\n",
       "      <td>740</td>\n",
       "      <td>99</td>\n",
       "    </tr>\n",
       "    <tr>\n",
       "      <th>480</th>\n",
       "      <td>2016-03-01</td>\n",
       "      <td>00:00</td>\n",
       "      <td>730</td>\n",
       "      <td>103</td>\n",
       "    </tr>\n",
       "    <tr>\n",
       "      <th>481</th>\n",
       "      <td>2016-03-01</td>\n",
       "      <td>00:06</td>\n",
       "      <td>660</td>\n",
       "      <td>100</td>\n",
       "    </tr>\n",
       "    <tr>\n",
       "      <th>482</th>\n",
       "      <td>2016-03-01</td>\n",
       "      <td>00:12</td>\n",
       "      <td>800</td>\n",
       "      <td>101</td>\n",
       "    </tr>\n",
       "    <tr>\n",
       "      <th>483</th>\n",
       "      <td>2016-03-01</td>\n",
       "      <td>00:18</td>\n",
       "      <td>650</td>\n",
       "      <td>101</td>\n",
       "    </tr>\n",
       "    <tr>\n",
       "      <th>484</th>\n",
       "      <td>2016-03-01</td>\n",
       "      <td>00:24</td>\n",
       "      <td>680</td>\n",
       "      <td>104</td>\n",
       "    </tr>\n",
       "  </tbody>\n",
       "</table>\n",
       "</div>"
      ],
      "text/plain": [
       "           jma   hhmm  débit  vitesse\n",
       "470 2016-02-01  23:00    740       99\n",
       "471 2016-02-01  23:06    720       97\n",
       "472 2016-02-01  23:12    800       99\n",
       "473 2016-02-01  23:18    690       98\n",
       "474 2016-02-01  23:24    690      100\n",
       "475 2016-02-01  23:30    700      101\n",
       "476 2016-02-01  23:36    700      101\n",
       "477 2016-02-01  23:42    580      100\n",
       "478 2016-02-01  23:48    760      103\n",
       "479 2016-02-01  23:54    740       99\n",
       "480 2016-03-01  00:00    730      103\n",
       "481 2016-03-01  00:06    660      100\n",
       "482 2016-03-01  00:12    800      101\n",
       "483 2016-03-01  00:18    650      101\n",
       "484 2016-03-01  00:24    680      104"
      ]
     },
     "execution_count": 106,
     "metadata": {},
     "output_type": "execute_result"
    }
   ],
   "source": [
    "df[470:485]"
   ]
  },
  {
   "cell_type": "code",
   "execution_count": 109,
   "metadata": {},
   "outputs": [],
   "source": [
    "df = df[0:1680]"
   ]
  },
  {
   "cell_type": "code",
   "execution_count": 110,
   "metadata": {},
   "outputs": [
    {
     "name": "stderr",
     "output_type": "stream",
     "text": [
      "C:\\Users\\oumayma.doughmi\\ANACONDA\\lib\\site-packages\\ipykernel_launcher.py:2: SettingWithCopyWarning: \n",
      "A value is trying to be set on a copy of a slice from a DataFrame.\n",
      "Try using .loc[row_indexer,col_indexer] = value instead\n",
      "\n",
      "See the caveats in the documentation: http://pandas.pydata.org/pandas-docs/stable/indexing.html#indexing-view-versus-copy\n",
      "  \n"
     ]
    }
   ],
   "source": [
    "# Ajouter le champs de Concentration K\n",
    "df['K'] = (df['débit'])/(df['vitesse'])\n",
    "result['K'] = (result['débit'])/(result['vitesse'])"
   ]
  },
  {
   "cell_type": "code",
   "execution_count": 117,
   "metadata": {},
   "outputs": [
    {
     "data": {
      "text/html": [
       "<div>\n",
       "<style scoped>\n",
       "    .dataframe tbody tr th:only-of-type {\n",
       "        vertical-align: middle;\n",
       "    }\n",
       "\n",
       "    .dataframe tbody tr th {\n",
       "        vertical-align: top;\n",
       "    }\n",
       "\n",
       "    .dataframe thead th {\n",
       "        text-align: right;\n",
       "    }\n",
       "</style>\n",
       "<table border=\"1\" class=\"dataframe\">\n",
       "  <thead>\n",
       "    <tr style=\"text-align: right;\">\n",
       "      <th></th>\n",
       "      <th>veh_6mn</th>\n",
       "      <th>vitesse</th>\n",
       "      <th>débit</th>\n",
       "      <th>date</th>\n",
       "      <th>K</th>\n",
       "    </tr>\n",
       "  </thead>\n",
       "  <tbody>\n",
       "    <tr>\n",
       "      <th>0</th>\n",
       "      <td>42</td>\n",
       "      <td>107.000000</td>\n",
       "      <td>420</td>\n",
       "      <td>2019-02-18 00:00:00</td>\n",
       "      <td>3.925234</td>\n",
       "    </tr>\n",
       "    <tr>\n",
       "      <th>1</th>\n",
       "      <td>36</td>\n",
       "      <td>104.685714</td>\n",
       "      <td>360</td>\n",
       "      <td>2019-02-18 00:06:00</td>\n",
       "      <td>3.438865</td>\n",
       "    </tr>\n",
       "    <tr>\n",
       "      <th>2</th>\n",
       "      <td>30</td>\n",
       "      <td>104.366667</td>\n",
       "      <td>300</td>\n",
       "      <td>2019-02-18 00:12:00</td>\n",
       "      <td>2.874481</td>\n",
       "    </tr>\n",
       "    <tr>\n",
       "      <th>3</th>\n",
       "      <td>22</td>\n",
       "      <td>100.272727</td>\n",
       "      <td>220</td>\n",
       "      <td>2019-02-18 00:18:00</td>\n",
       "      <td>2.194016</td>\n",
       "    </tr>\n",
       "    <tr>\n",
       "      <th>4</th>\n",
       "      <td>23</td>\n",
       "      <td>103.304348</td>\n",
       "      <td>230</td>\n",
       "      <td>2019-02-18 00:24:00</td>\n",
       "      <td>2.226431</td>\n",
       "    </tr>\n",
       "  </tbody>\n",
       "</table>\n",
       "</div>"
      ],
      "text/plain": [
       "   veh_6mn     vitesse  débit                date         K\n",
       "0       42  107.000000    420 2019-02-18 00:00:00  3.925234\n",
       "1       36  104.685714    360 2019-02-18 00:06:00  3.438865\n",
       "2       30  104.366667    300 2019-02-18 00:12:00  2.874481\n",
       "3       22  100.272727    220 2019-02-18 00:18:00  2.194016\n",
       "4       23  103.304348    230 2019-02-18 00:24:00  2.226431"
      ]
     },
     "execution_count": 117,
     "metadata": {},
     "output_type": "execute_result"
    }
   ],
   "source": [
    "result.head()"
   ]
  },
  {
   "cell_type": "code",
   "execution_count": 133,
   "metadata": {},
   "outputs": [
    {
     "ename": "AttributeError",
     "evalue": "'DataFrame' object has no attribute 'date'",
     "output_type": "error",
     "traceback": [
      "\u001b[1;31m---------------------------------------------------------------------------\u001b[0m",
      "\u001b[1;31mAttributeError\u001b[0m                            Traceback (most recent call last)",
      "\u001b[1;32m<ipython-input-133-fb0e221782b4>\u001b[0m in \u001b[0;36m<module>\u001b[1;34m\u001b[0m\n\u001b[1;32m----> 1\u001b[1;33m \u001b[0mdf\u001b[0m\u001b[1;33m.\u001b[0m\u001b[0mdate\u001b[0m\u001b[1;33m.\u001b[0m\u001b[0myear\u001b[0m\u001b[1;33m\u001b[0m\u001b[1;33m\u001b[0m\u001b[0m\n\u001b[0m",
      "\u001b[1;32m~\\ANACONDA\\lib\\site-packages\\pandas\\core\\generic.py\u001b[0m in \u001b[0;36m__getattr__\u001b[1;34m(self, name)\u001b[0m\n\u001b[0;32m   5065\u001b[0m             \u001b[1;32mif\u001b[0m \u001b[0mself\u001b[0m\u001b[1;33m.\u001b[0m\u001b[0m_info_axis\u001b[0m\u001b[1;33m.\u001b[0m\u001b[0m_can_hold_identifiers_and_holds_name\u001b[0m\u001b[1;33m(\u001b[0m\u001b[0mname\u001b[0m\u001b[1;33m)\u001b[0m\u001b[1;33m:\u001b[0m\u001b[1;33m\u001b[0m\u001b[1;33m\u001b[0m\u001b[0m\n\u001b[0;32m   5066\u001b[0m                 \u001b[1;32mreturn\u001b[0m \u001b[0mself\u001b[0m\u001b[1;33m[\u001b[0m\u001b[0mname\u001b[0m\u001b[1;33m]\u001b[0m\u001b[1;33m\u001b[0m\u001b[1;33m\u001b[0m\u001b[0m\n\u001b[1;32m-> 5067\u001b[1;33m             \u001b[1;32mreturn\u001b[0m \u001b[0mobject\u001b[0m\u001b[1;33m.\u001b[0m\u001b[0m__getattribute__\u001b[0m\u001b[1;33m(\u001b[0m\u001b[0mself\u001b[0m\u001b[1;33m,\u001b[0m \u001b[0mname\u001b[0m\u001b[1;33m)\u001b[0m\u001b[1;33m\u001b[0m\u001b[1;33m\u001b[0m\u001b[0m\n\u001b[0m\u001b[0;32m   5068\u001b[0m \u001b[1;33m\u001b[0m\u001b[0m\n\u001b[0;32m   5069\u001b[0m     \u001b[1;32mdef\u001b[0m \u001b[0m__setattr__\u001b[0m\u001b[1;33m(\u001b[0m\u001b[0mself\u001b[0m\u001b[1;33m,\u001b[0m \u001b[0mname\u001b[0m\u001b[1;33m,\u001b[0m \u001b[0mvalue\u001b[0m\u001b[1;33m)\u001b[0m\u001b[1;33m:\u001b[0m\u001b[1;33m\u001b[0m\u001b[1;33m\u001b[0m\u001b[0m\n",
      "\u001b[1;31mAttributeError\u001b[0m: 'DataFrame' object has no attribute 'date'"
     ]
    }
   ],
   "source": [
    "df.date.year"
   ]
  },
  {
   "cell_type": "code",
   "execution_count": 119,
   "metadata": {},
   "outputs": [
    {
     "data": {
      "image/png": "[encoded data removed]",
      "text/plain": [
       "<Figure size 1296x432 with 3 Axes>"
      ]
     },
     "metadata": {
      "needs_background": "light"
     },
     "output_type": "display_data"
    }
   ],
   "source": [
    "fig = plt.figure(figsize=(18,6))\n",
    "#AXES\n",
    "ax1 = fig.add_subplot(131); ax2 = fig.add_subplot(132); ax3 = fig.add_subplot(133)\n",
    "\n",
    "#Data\n",
    "ax1.scatter(result['débit'], result['vitesse'], s=.5, c='g', marker=\"o\")\n",
    "ax2.scatter(result['K'], result['vitesse'], s=.5, c='r', marker=\"o\")\n",
    "ax3.scatter(result['K'], result['débit'], s=.5, c='b', marker=\"o\")\n",
    "\n",
    "#Labels\n",
    "ax1.set_xlabel('Débit Q'); ax1.set_ylabel('Vitesse')\n",
    "ax2.set_xlabel('Concentration K'); fig.suptitle(\"Diagramme de niveau de service pour M7i 2019\", fontsize=20)\n",
    "ax3.set_xlabel('Concentration K'); ax3.set_ylabel('Debit Q')\n",
    "ax3.set_title('Debit Q = f(K)'); ax2.set_title('Vitesse = f(K)'); ax1.set_title('Vitesse = f(Q)')\n",
    "plt.show()"
   ]
  },
  {
   "cell_type": "code",
   "execution_count": 125,
   "metadata": {},
   "outputs": [
    {
     "data": {
      "image/png": "[encoded data removed]",
      "text/plain": [
       "<Figure size 1296x432 with 2 Axes>"
      ]
     },
     "metadata": {
      "needs_background": "light"
     },
     "output_type": "display_data"
    }
   ],
   "source": [
    "fig = plt.figure(figsize=(18,6))\n",
    "#AXES\n",
    "ax1 = fig.add_subplot(121); ax2 = fig.add_subplot(122)\n",
    "\n",
    "#Data\n",
    "ax1.scatter(df['débit'], df['vitesse'], s=1.5, c='g', marker=\"o\")\n",
    "ax2.scatter(result['débit'], result['vitesse'], s=1.5, c='r', marker=\"o\")\n",
    "#ax3.scatter(df['K'], df['débit'], s=.5, c='b', marker=\"o\")\n",
    "\n",
    "#Labels\n",
    "ax1.set_xlabel('Débit Q'); ax1.set_ylabel('Vitesse')\n",
    "ax2.set_xlabel('Débit Q')\n",
    "ax2.set_title('Vitesse = f(Q) ; 2019', fontsize=13); ax1.set_title('Vitesse = f(Q) ; 2016', fontsize=13)\n",
    "plt.show()"
   ]
  },
  {
   "cell_type": "code",
   "execution_count": 126,
   "metadata": {},
   "outputs": [
    {
     "data": {
      "image/png": "[encoded data removed]",
      "text/plain": [
       "<Figure size 1296x432 with 2 Axes>"
      ]
     },
     "metadata": {
      "needs_background": "light"
     },
     "output_type": "display_data"
    }
   ],
   "source": [
    "fig = plt.figure(figsize=(18,6))\n",
    "#AXES\n",
    "ax1 = fig.add_subplot(121); ax2 = fig.add_subplot(122)\n",
    "\n",
    "#Data\n",
    "ax1.scatter(df['K'], df['débit'], s=1.5, c='g', marker=\"o\")\n",
    "ax2.scatter(result['K'], result['débit'], s=1.5, c='r', marker=\"o\")\n",
    "#ax3.scatter(df['K'], df['débit'], s=.5, c='b', marker=\"o\")\n",
    "\n",
    "#Labels\n",
    "ax1.set_xlabel('Concentration K'); ax1.set_ylabel('Débit Q')\n",
    "ax2.set_xlabel('Concentration K')\n",
    "ax2.set_title('Débit = f(K); 2019', fontsize=13); ax1.set_title('Débit = f(K) ; 2016', fontsize=13)\n",
    "plt.show()"
   ]
  },
  {
   "cell_type": "code",
   "execution_count": 127,
   "metadata": {},
   "outputs": [
    {
     "data": {
      "image/png": "[encoded data removed]",
      "text/plain": [
       "<Figure size 1296x432 with 2 Axes>"
      ]
     },
     "metadata": {
      "needs_background": "light"
     },
     "output_type": "display_data"
    }
   ],
   "source": [
    "fig = plt.figure(figsize=(18,6))\n",
    "#AXES\n",
    "ax1 = fig.add_subplot(121); ax2 = fig.add_subplot(122)\n",
    "\n",
    "#Data\n",
    "ax1.scatter(df['K'], df['vitesse'], s=1.5, c='g', marker=\"o\")\n",
    "ax2.scatter(result['K'], result['vitesse'], s=1.5, c='r', marker=\"o\")\n",
    "#ax3.scatter(df['K'], df['débit'], s=.5, c='b', marker=\"o\")\n",
    "\n",
    "#Labels\n",
    "ax1.set_xlabel('Concentration K'); ax1.set_ylabel('vitesse')\n",
    "ax2.set_xlabel('Concentration K')\n",
    "ax2.set_title('vitesse = f(K); 2019', fontsize=13); ax1.set_title('vitesse = f(K) ; 2016', fontsize=13)\n",
    "plt.show()"
   ]
  },
  {
   "cell_type": "code",
   "execution_count": 142,
   "metadata": {},
   "outputs": [
    {
     "data": {
      "text/html": [
       "<div>\n",
       "<style scoped>\n",
       "    .dataframe tbody tr th:only-of-type {\n",
       "        vertical-align: middle;\n",
       "    }\n",
       "\n",
       "    .dataframe tbody tr th {\n",
       "        vertical-align: top;\n",
       "    }\n",
       "\n",
       "    .dataframe thead th {\n",
       "        text-align: right;\n",
       "    }\n",
       "</style>\n",
       "<table border=\"1\" class=\"dataframe\">\n",
       "  <thead>\n",
       "    <tr style=\"text-align: right;\">\n",
       "      <th></th>\n",
       "      <th>débit</th>\n",
       "      <th>vitesse</th>\n",
       "      <th>K</th>\n",
       "    </tr>\n",
       "  </thead>\n",
       "  <tbody>\n",
       "    <tr>\n",
       "      <th>count</th>\n",
       "      <td>1680.000000</td>\n",
       "      <td>1680.000000</td>\n",
       "      <td>1680.000000</td>\n",
       "    </tr>\n",
       "    <tr>\n",
       "      <th>mean</th>\n",
       "      <td>1882.505952</td>\n",
       "      <td>90.025595</td>\n",
       "      <td>23.379536</td>\n",
       "    </tr>\n",
       "    <tr>\n",
       "      <th>std</th>\n",
       "      <td>1357.239769</td>\n",
       "      <td>12.400837</td>\n",
       "      <td>20.486074</td>\n",
       "    </tr>\n",
       "    <tr>\n",
       "      <th>min</th>\n",
       "      <td>60.000000</td>\n",
       "      <td>19.000000</td>\n",
       "      <td>0.638298</td>\n",
       "    </tr>\n",
       "    <tr>\n",
       "      <th>25%</th>\n",
       "      <td>610.000000</td>\n",
       "      <td>88.000000</td>\n",
       "      <td>6.368761</td>\n",
       "    </tr>\n",
       "    <tr>\n",
       "      <th>50%</th>\n",
       "      <td>1645.000000</td>\n",
       "      <td>93.000000</td>\n",
       "      <td>17.381553</td>\n",
       "    </tr>\n",
       "    <tr>\n",
       "      <th>75%</th>\n",
       "      <td>3090.000000</td>\n",
       "      <td>97.000000</td>\n",
       "      <td>35.514756</td>\n",
       "    </tr>\n",
       "    <tr>\n",
       "      <th>max</th>\n",
       "      <td>5150.000000</td>\n",
       "      <td>111.000000</td>\n",
       "      <td>132.105263</td>\n",
       "    </tr>\n",
       "  </tbody>\n",
       "</table>\n",
       "</div>"
      ],
      "text/plain": [
       "             débit      vitesse            K\n",
       "count  1680.000000  1680.000000  1680.000000\n",
       "mean   1882.505952    90.025595    23.379536\n",
       "std    1357.239769    12.400837    20.486074\n",
       "min      60.000000    19.000000     0.638298\n",
       "25%     610.000000    88.000000     6.368761\n",
       "50%    1645.000000    93.000000    17.381553\n",
       "75%    3090.000000    97.000000    35.514756\n",
       "max    5150.000000   111.000000   132.105263"
      ]
     },
     "execution_count": 142,
     "metadata": {},
     "output_type": "execute_result"
    }
   ],
   "source": [
    "df.describe()"
   ]
  },
  {
   "cell_type": "code",
   "execution_count": 143,
   "metadata": {},
   "outputs": [
    {
     "data": {
      "text/html": [
       "<div>\n",
       "<style scoped>\n",
       "    .dataframe tbody tr th:only-of-type {\n",
       "        vertical-align: middle;\n",
       "    }\n",
       "\n",
       "    .dataframe tbody tr th {\n",
       "        vertical-align: top;\n",
       "    }\n",
       "\n",
       "    .dataframe thead th {\n",
       "        text-align: right;\n",
       "    }\n",
       "</style>\n",
       "<table border=\"1\" class=\"dataframe\">\n",
       "  <thead>\n",
       "    <tr style=\"text-align: right;\">\n",
       "      <th></th>\n",
       "      <th>veh_6mn</th>\n",
       "      <th>vitesse</th>\n",
       "      <th>débit</th>\n",
       "      <th>K</th>\n",
       "    </tr>\n",
       "  </thead>\n",
       "  <tbody>\n",
       "    <tr>\n",
       "      <th>count</th>\n",
       "      <td>1680.000000</td>\n",
       "      <td>1646.000000</td>\n",
       "      <td>1680.000000</td>\n",
       "      <td>1646.000000</td>\n",
       "    </tr>\n",
       "    <tr>\n",
       "      <th>mean</th>\n",
       "      <td>215.310119</td>\n",
       "      <td>90.289661</td>\n",
       "      <td>2153.101190</td>\n",
       "      <td>26.917996</td>\n",
       "    </tr>\n",
       "    <tr>\n",
       "      <th>std</th>\n",
       "      <td>151.374653</td>\n",
       "      <td>12.182773</td>\n",
       "      <td>1513.746529</td>\n",
       "      <td>21.473762</td>\n",
       "    </tr>\n",
       "    <tr>\n",
       "      <th>min</th>\n",
       "      <td>0.000000</td>\n",
       "      <td>48.089080</td>\n",
       "      <td>0.000000</td>\n",
       "      <td>0.086207</td>\n",
       "    </tr>\n",
       "    <tr>\n",
       "      <th>25%</th>\n",
       "      <td>61.000000</td>\n",
       "      <td>87.536177</td>\n",
       "      <td>610.000000</td>\n",
       "      <td>6.793849</td>\n",
       "    </tr>\n",
       "    <tr>\n",
       "      <th>50%</th>\n",
       "      <td>222.000000</td>\n",
       "      <td>93.532380</td>\n",
       "      <td>2220.000000</td>\n",
       "      <td>24.692390</td>\n",
       "    </tr>\n",
       "    <tr>\n",
       "      <th>75%</th>\n",
       "      <td>347.250000</td>\n",
       "      <td>97.875984</td>\n",
       "      <td>3472.500000</td>\n",
       "      <td>40.510487</td>\n",
       "    </tr>\n",
       "    <tr>\n",
       "      <th>max</th>\n",
       "      <td>524.000000</td>\n",
       "      <td>116.250000</td>\n",
       "      <td>5240.000000</td>\n",
       "      <td>81.856058</td>\n",
       "    </tr>\n",
       "  </tbody>\n",
       "</table>\n",
       "</div>"
      ],
      "text/plain": [
       "           veh_6mn      vitesse        débit            K\n",
       "count  1680.000000  1646.000000  1680.000000  1646.000000\n",
       "mean    215.310119    90.289661  2153.101190    26.917996\n",
       "std     151.374653    12.182773  1513.746529    21.473762\n",
       "min       0.000000    48.089080     0.000000     0.086207\n",
       "25%      61.000000    87.536177   610.000000     6.793849\n",
       "50%     222.000000    93.532380  2220.000000    24.692390\n",
       "75%     347.250000    97.875984  3472.500000    40.510487\n",
       "max     524.000000   116.250000  5240.000000    81.856058"
      ]
     },
     "execution_count": 143,
     "metadata": {},
     "output_type": "execute_result"
    }
   ],
   "source": [
    "result.describe()"
   ]
  },
  {
   "cell_type": "markdown",
   "metadata": {},
   "source": [
    "La moyenne de la vitesse est de $90 km/h$ pour l'année $2019$ et aussi $2016$, alors que le débit et plus élevé pendant la semaine de l'année $2019$."
   ]
  },
  {
   "cell_type": "code",
   "execution_count": null,
   "metadata": {},
   "outputs": [],
   "source": []
  }
 ],
 "metadata": {
  "kernelspec": {
   "display_name": "Python 3",
   "language": "python",
   "name": "python3"
  },
  "language_info": {
   "codemirror_mode": {
    "name": "ipython",
    "version": 3
   },
   "file_extension": ".py",
   "mimetype": "text/x-python",
   "name": "python",
   "nbconvert_exporter": "python",
   "pygments_lexer": "ipython3",
   "version": "3.7.3"
  }
 },
 "nbformat": 4,
 "nbformat_minor": 2
}
