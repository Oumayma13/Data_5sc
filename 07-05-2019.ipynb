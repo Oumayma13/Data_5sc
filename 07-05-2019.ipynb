{
 "cells": [
  {
   "cell_type": "markdown",
   "metadata": {},
   "source": [
    "### Données de 18/02/2019 00:00 jusqu'à 18/02/2019 16:22"
   ]
  },
  {
   "cell_type": "code",
   "execution_count": 132,
   "metadata": {},
   "outputs": [],
   "source": [
    "#Charger les biblio\n",
    "import numpy as np\n",
    "import pandas as pd\n",
    "from pandas import read_csv\n",
    "import matplotlib.pyplot as plt\n",
    "from matplotlib import cm\n",
    "import seaborn as sns\n",
    "import numpy as np\n",
    "import string \n",
    "from subprocess import check_output\n",
    "import seaborn as sns\n",
    "from pylab import *\n",
    "%matplotlib inline\n",
    "sns.set()"
   ]
  },
  {
   "cell_type": "code",
   "execution_count": 133,
   "metadata": {},
   "outputs": [],
   "source": [
    "# Lire la table avec 'header'\n",
    "df = pd.read_csv('Hmvl2.csv', sep=';', engine='python')"
   ]
  },
  {
   "cell_type": "code",
   "execution_count": 134,
   "metadata": {},
   "outputs": [],
   "source": [
    "# Remplacer les NaN par des zeros dans trame_hmvl\n",
    "df.trame_hmvl.fillna('0', inplace=True)"
   ]
  },
  {
   "cell_type": "code",
   "execution_count": 135,
   "metadata": {},
   "outputs": [],
   "source": [
    "#Identifier les donnees de chaque stations\n",
    "groupe = df.groupby('code')\n",
    "#Table de donnees de la station M7i\n",
    "df = groupe.get_group('M7i')"
   ]
  },
  {
   "cell_type": "code",
   "execution_count": 136,
   "metadata": {},
   "outputs": [],
   "source": [
    "# Reindexer la dataframe\n",
    "df.index = range(len(df))"
   ]
  },
  {
   "cell_type": "code",
   "execution_count": 137,
   "metadata": {},
   "outputs": [
    {
     "data": {
      "text/html": [
       "<div>\n",
       "<style scoped>\n",
       "    .dataframe tbody tr th:only-of-type {\n",
       "        vertical-align: middle;\n",
       "    }\n",
       "\n",
       "    .dataframe tbody tr th {\n",
       "        vertical-align: top;\n",
       "    }\n",
       "\n",
       "    .dataframe thead th {\n",
       "        text-align: right;\n",
       "    }\n",
       "</style>\n",
       "<table border=\"1\" class=\"dataframe\">\n",
       "  <thead>\n",
       "    <tr style=\"text-align: right;\">\n",
       "      <th></th>\n",
       "      <th>code</th>\n",
       "      <th>id</th>\n",
       "      <th>equipement_id</th>\n",
       "      <th>date_reception</th>\n",
       "      <th>trame_hmvl</th>\n",
       "    </tr>\n",
       "  </thead>\n",
       "  <tbody>\n",
       "    <tr>\n",
       "      <th>0</th>\n",
       "      <td>M7i</td>\n",
       "      <td>6460</td>\n",
       "      <td>6460</td>\n",
       "      <td>2019-02-18 00:00:03.049</td>\n",
       "      <td>0</td>\n",
       "    </tr>\n",
       "    <tr>\n",
       "      <th>1</th>\n",
       "      <td>M7i</td>\n",
       "      <td>6460</td>\n",
       "      <td>6460</td>\n",
       "      <td>2019-02-18 00:00:15.049</td>\n",
       "      <td>14148093033</td>\n",
       "    </tr>\n",
       "    <tr>\n",
       "      <th>2</th>\n",
       "      <td>M7i</td>\n",
       "      <td>6460</td>\n",
       "      <td>6460</td>\n",
       "      <td>2019-02-18 00:00:21.049</td>\n",
       "      <td>0</td>\n",
       "    </tr>\n",
       "  </tbody>\n",
       "</table>\n",
       "</div>"
      ],
      "text/plain": [
       "  code    id  equipement_id           date_reception   trame_hmvl\n",
       "0  M7i  6460           6460  2019-02-18 00:00:03.049            0\n",
       "1  M7i  6460           6460  2019-02-18 00:00:15.049  14148093033\n",
       "2  M7i  6460           6460  2019-02-18 00:00:21.049            0"
      ]
     },
     "execution_count": 137,
     "metadata": {},
     "output_type": "execute_result"
    }
   ],
   "source": [
    "df.head(3)"
   ]
  },
  {
   "cell_type": "markdown",
   "metadata": {},
   "source": [
    "Séparons d'abords la colonne 'trame_hmvl' par cases de 11 caractères."
   ]
  },
  {
   "cell_type": "code",
   "execution_count": 138,
   "metadata": {},
   "outputs": [],
   "source": [
    "#changeaons les noms de colonnes\n",
    "df.columns = ['code', 'id','equipement_id', 'date','trame']"
   ]
  },
  {
   "cell_type": "markdown",
   "metadata": {},
   "source": [
    "Déterminer le nombre maximale de caractère :"
   ]
  },
  {
   "cell_type": "code",
   "execution_count": 8,
   "metadata": {},
   "outputs": [
    {
     "name": "stderr",
     "output_type": "stream",
     "text": [
      "C:\\Users\\oumayma.doughmi\\ANACONDA\\lib\\site-packages\\ipykernel_launcher.py:2: SettingWithCopyWarning: \n",
      "A value is trying to be set on a copy of a slice from a DataFrame.\n",
      "Try using .loc[row_indexer,col_indexer] = value instead\n",
      "\n",
      "See the caveats in the documentation: http://pandas.pydata.org/pandas-docs/stable/indexing.html#indexing-view-versus-copy\n",
      "  \n"
     ]
    }
   ],
   "source": [
    "# On ajoute une colonne Count pour compter chacune\n",
    "df['Count'] = df['trame'].str.len()"
   ]
  },
  {
   "cell_type": "code",
   "execution_count": 9,
   "metadata": {},
   "outputs": [
    {
     "data": {
      "text/plain": [
       "154"
      ]
     },
     "execution_count": 9,
     "metadata": {},
     "output_type": "execute_result"
    }
   ],
   "source": [
    "df.Count.max()"
   ]
  },
  {
   "cell_type": "code",
   "execution_count": 10,
   "metadata": {},
   "outputs": [],
   "source": [
    "# Supprimons la colonne\n",
    "df = df.drop(['Count'], axis=1)"
   ]
  },
  {
   "cell_type": "markdown",
   "metadata": {},
   "source": [
    " 154 est le nombre maximale de caractère, donc il faut créer 14 nouveaux champs qui contient les 11 caractères pour chaque véhicules."
   ]
  },
  {
   "cell_type": "markdown",
   "metadata": {},
   "source": [
    "réalisons une boucle qui séparer toutes les colonnes à la fois"
   ]
  },
  {
   "cell_type": "code",
   "execution_count": 139,
   "metadata": {},
   "outputs": [],
   "source": [
    "liste = [\"x0\",\"x1\",\"x2\",\"x3\",\"x4\",\"x5\",\"x6\",\"x7\",\"x8\",\"x9\",'x10','x11','x12', 'x13']"
   ]
  },
  {
   "cell_type": "code",
   "execution_count": 140,
   "metadata": {},
   "outputs": [
    {
     "name": "stderr",
     "output_type": "stream",
     "text": [
      "C:\\Users\\oumayma.doughmi\\ANACONDA\\lib\\site-packages\\ipykernel_launcher.py:3: SettingWithCopyWarning: \n",
      "A value is trying to be set on a copy of a slice from a DataFrame.\n",
      "Try using .loc[row_indexer,col_indexer] = value instead\n",
      "\n",
      "See the caveats in the documentation: http://pandas.pydata.org/pandas-docs/stable/indexing.html#indexing-view-versus-copy\n",
      "  This is separate from the ipykernel package so we can avoid doing imports until\n"
     ]
    }
   ],
   "source": [
    "# Créer les tables \n",
    "for i in range(len(liste)):\n",
    "    df[liste[i]] = df[\"trame\"].str.slice(11*i,11*(i+1))"
   ]
  },
  {
   "cell_type": "code",
   "execution_count": 50,
   "metadata": {},
   "outputs": [
    {
     "data": {
      "text/html": [
       "<div>\n",
       "<style scoped>\n",
       "    .dataframe tbody tr th:only-of-type {\n",
       "        vertical-align: middle;\n",
       "    }\n",
       "\n",
       "    .dataframe tbody tr th {\n",
       "        vertical-align: top;\n",
       "    }\n",
       "\n",
       "    .dataframe thead th {\n",
       "        text-align: right;\n",
       "    }\n",
       "</style>\n",
       "<table border=\"1\" class=\"dataframe\">\n",
       "  <thead>\n",
       "    <tr style=\"text-align: right;\">\n",
       "      <th></th>\n",
       "      <th>code</th>\n",
       "      <th>id</th>\n",
       "      <th>equipement_id</th>\n",
       "      <th>date</th>\n",
       "      <th>trame</th>\n",
       "      <th>x0</th>\n",
       "      <th>x1</th>\n",
       "      <th>x2</th>\n",
       "      <th>x3</th>\n",
       "      <th>x4</th>\n",
       "      <th>x5</th>\n",
       "      <th>x6</th>\n",
       "      <th>x7</th>\n",
       "      <th>x8</th>\n",
       "      <th>x9</th>\n",
       "      <th>x10</th>\n",
       "      <th>x11</th>\n",
       "      <th>x12</th>\n",
       "      <th>x13</th>\n",
       "    </tr>\n",
       "  </thead>\n",
       "  <tbody>\n",
       "    <tr>\n",
       "      <th>0</th>\n",
       "      <td>M7i</td>\n",
       "      <td>6460</td>\n",
       "      <td>6460</td>\n",
       "      <td>2019-02-18 00:00:03.049</td>\n",
       "      <td>0</td>\n",
       "      <td>0</td>\n",
       "      <td></td>\n",
       "      <td></td>\n",
       "      <td></td>\n",
       "      <td></td>\n",
       "      <td></td>\n",
       "      <td></td>\n",
       "      <td></td>\n",
       "      <td></td>\n",
       "      <td></td>\n",
       "      <td></td>\n",
       "      <td></td>\n",
       "      <td></td>\n",
       "      <td></td>\n",
       "    </tr>\n",
       "    <tr>\n",
       "      <th>1</th>\n",
       "      <td>M7i</td>\n",
       "      <td>6460</td>\n",
       "      <td>6460</td>\n",
       "      <td>2019-02-18 00:00:15.049</td>\n",
       "      <td>14148093033</td>\n",
       "      <td>14148093033</td>\n",
       "      <td></td>\n",
       "      <td></td>\n",
       "      <td></td>\n",
       "      <td></td>\n",
       "      <td></td>\n",
       "      <td></td>\n",
       "      <td></td>\n",
       "      <td></td>\n",
       "      <td></td>\n",
       "      <td></td>\n",
       "      <td></td>\n",
       "      <td></td>\n",
       "      <td></td>\n",
       "    </tr>\n",
       "    <tr>\n",
       "      <th>2</th>\n",
       "      <td>M7i</td>\n",
       "      <td>6460</td>\n",
       "      <td>6460</td>\n",
       "      <td>2019-02-18 00:00:21.049</td>\n",
       "      <td>0</td>\n",
       "      <td>0</td>\n",
       "      <td></td>\n",
       "      <td></td>\n",
       "      <td></td>\n",
       "      <td></td>\n",
       "      <td></td>\n",
       "      <td></td>\n",
       "      <td></td>\n",
       "      <td></td>\n",
       "      <td></td>\n",
       "      <td></td>\n",
       "      <td></td>\n",
       "      <td></td>\n",
       "      <td></td>\n",
       "    </tr>\n",
       "    <tr>\n",
       "      <th>3</th>\n",
       "      <td>M7i</td>\n",
       "      <td>6460</td>\n",
       "      <td>6460</td>\n",
       "      <td>2019-02-18 00:00:26.549</td>\n",
       "      <td>05354096031</td>\n",
       "      <td>05354096031</td>\n",
       "      <td></td>\n",
       "      <td></td>\n",
       "      <td></td>\n",
       "      <td></td>\n",
       "      <td></td>\n",
       "      <td></td>\n",
       "      <td></td>\n",
       "      <td></td>\n",
       "      <td></td>\n",
       "      <td></td>\n",
       "      <td></td>\n",
       "      <td></td>\n",
       "      <td></td>\n",
       "    </tr>\n",
       "    <tr>\n",
       "      <th>4</th>\n",
       "      <td>M7i</td>\n",
       "      <td>6460</td>\n",
       "      <td>6460</td>\n",
       "      <td>2019-02-18 00:00:33.049</td>\n",
       "      <td>0</td>\n",
       "      <td>0</td>\n",
       "      <td></td>\n",
       "      <td></td>\n",
       "      <td></td>\n",
       "      <td></td>\n",
       "      <td></td>\n",
       "      <td></td>\n",
       "      <td></td>\n",
       "      <td></td>\n",
       "      <td></td>\n",
       "      <td></td>\n",
       "      <td></td>\n",
       "      <td></td>\n",
       "      <td></td>\n",
       "    </tr>\n",
       "  </tbody>\n",
       "</table>\n",
       "</div>"
      ],
      "text/plain": [
       "  code    id  equipement_id                     date        trame  \\\n",
       "0  M7i  6460           6460  2019-02-18 00:00:03.049            0   \n",
       "1  M7i  6460           6460  2019-02-18 00:00:15.049  14148093033   \n",
       "2  M7i  6460           6460  2019-02-18 00:00:21.049            0   \n",
       "3  M7i  6460           6460  2019-02-18 00:00:26.549  05354096031   \n",
       "4  M7i  6460           6460  2019-02-18 00:00:33.049            0   \n",
       "\n",
       "            x0 x1 x2 x3 x4 x5 x6 x7 x8 x9 x10 x11 x12 x13  \n",
       "0            0                                             \n",
       "1  14148093033                                             \n",
       "2            0                                             \n",
       "3  05354096031                                             \n",
       "4            0                                             "
      ]
     },
     "execution_count": 50,
     "metadata": {},
     "output_type": "execute_result"
    }
   ],
   "source": [
    "df.head()"
   ]
  },
  {
   "cell_type": "code",
   "execution_count": 141,
   "metadata": {},
   "outputs": [],
   "source": [
    "# Créer 14 tables vides\n",
    "l = ['df0','df1','df2','df3','df4','df5','df6','df7','df8','df9','df10','df11','df12', 'df13']\n",
    "for c in l:\n",
    "     exec('{} = pd.DataFrame()'.format(c))"
   ]
  },
  {
   "cell_type": "markdown",
   "metadata": {},
   "source": [
    "Dans le but d'avoir une ligne par véhicules, nous allons créer des tables $df_{i}$ en supprimant les $x_{j}$ avec $j \\ne i$."
   ]
  },
  {
   "cell_type": "code",
   "execution_count": 142,
   "metadata": {},
   "outputs": [],
   "source": [
    "liste = [\"x0\",\"x1\",\"x2\",\"x3\",\"x4\",\"x5\",\"x6\",\"x7\",\"x8\",\"x9\",'x10','x11','x12', 'x13']\n",
    "liste2 = [df0,df1,df2,df3,df4,df5,df6,df7,df8,df9,df10,df11,df12, df13]\n",
    "\n",
    "    # Séparer la colonne xi en 4 colonnes  \n",
    "for i, f in zip(range( len(liste)), liste2):\n",
    "    f = df[[liste[i], 'code', 'id', 'equipement_id', 'date']]"
   ]
  },
  {
   "cell_type": "code",
   "execution_count": 148,
   "metadata": {},
   "outputs": [],
   "source": [
    "df0 = df.loc[:, df.columns != 'x0']"
   ]
  },
  {
   "cell_type": "code",
   "execution_count": 105,
   "metadata": {},
   "outputs": [],
   "source": [
    "# Supprimer les colonnes xj\n",
    "df0 = df.drop(['x3','x1','x2','x4','x5','x6','x7',\n",
    "               'x8', 'x9', 'x10', 'x11','x12', 'x13', 'trame'], axis=1)\n",
    "# df1\n",
    "df1 = df.drop(['x3','x0','x2','x4','x5','x6','x7',\n",
    "               'x8', 'x9', 'x10', 'x11','x12', 'x13', 'trame'], axis=1)\n",
    "# Supprimer les colonnes xj\n",
    "df2 = df.drop(['x3','x1','x0','x4','x5','x6','x7',\n",
    "               'x8', 'x9', 'x10', 'x11','x12', 'x13', 'trame'], axis=1)\n",
    "df3 = df.drop(['x0','x1','x2','x4','x5','x6','x7',\n",
    "               'x8', 'x9', 'x10', 'x11','x12', 'x13', 'trame'], axis=1)\n",
    "# Supprimer les colonnes xj\n",
    "df4 = df.drop(['x0','x1','x2','x3','x5','x6','x7',\n",
    "               'x8', 'x9', 'x10', 'x11','x12', 'x13', 'trame'], axis=1)\n",
    "# Supprimer les colonnes xj\n",
    "df5 = df.drop(['x0','x1','x2','x4','x3','x6','x7',\n",
    "               'x8', 'x9', 'x10', 'x11','x12', 'x13', 'trame'], axis=1)\n",
    "# Supprimer les colonnes xj\n",
    "df6 = df.drop(['x0','x1','x2','x4','x5','x3','x7',\n",
    "               'x8', 'x9', 'x10', 'x11','x12', 'x13', 'trame'], axis=1)\n",
    "# Supprimer les colonnes xj\n",
    "df7 = df.drop(['x0','x1','x2','x4','x5','x6','x3',\n",
    "               'x8', 'x9', 'x10', 'x11','x12', 'x13', 'trame'], axis=1)\n",
    "# Supprimer les colonnes xj\n",
    "df8 = df.drop(['x0','x1','x2','x4','x5','x6','x3',\n",
    "               'x7', 'x9', 'x10', 'x11','x12', 'x13', 'trame'], axis=1)\n",
    "df9 = df.drop(['x0','x1','x2','x4','x5','x6','x3',\n",
    "               'x7', 'x8', 'x10', 'x11','x12', 'x13', 'trame'], axis=1)\n",
    "\n",
    "df10 = df.drop(['x0','x1','x2','x4','x5','x6','x3',\n",
    "               'x7', 'x9', 'x8', 'x11','x12', 'x13', 'trame'], axis=1)\n",
    "\n",
    "df11 = df.drop(['x0','x1','x2','x4','x5','x6','x3',\n",
    "               'x7', 'x9', 'x10', 'x8','x12', 'x13', 'trame'], axis=1)\n",
    "\n",
    "df12 = df.drop(['x0','x1','x2','x4','x5','x6','x3',\n",
    "               'x7', 'x8', 'x10', 'x11','x9', 'x13', 'trame'], axis=1)\n",
    "\n",
    "df13 = df.drop(['x0','x1','x2','x4','x5','x6','x3',\n",
    "               'x7', 'x9', 'x8', 'x11','x12', 'x10', 'trame'], axis=1)"
   ]
  },
  {
   "cell_type": "code",
   "execution_count": 106,
   "metadata": {},
   "outputs": [],
   "source": [
    "liste = [\"x0\",\"x1\",\"x2\",\"x3\",\"x4\",\"x5\",\"x6\",\"x7\",\"x8\",\"x9\",'x10','x11','x12', 'x13']\n",
    "liste2 = [df0,df1,df2,df3,df4,df5,df6,df7,df8,df9,df10,df11,df12, df13]\n",
    "\n",
    "    # Séparer la colonne xi en 4 colonnes  \n",
    "for i, f in zip(range( len(liste)), liste2):\n",
    "    f[\"voie\"] = f[liste[i]].str.slice(0,1)\n",
    "    f[\"horodatage\"] = f[liste[i]].str.slice(1,5)\n",
    "    f[\"vitesse\"] = f[liste[i]].str.slice(5,8)\n",
    "    f[\"longueur\"] = f[liste[i]].str.slice(8,11)"
   ]
  },
  {
   "cell_type": "code",
   "execution_count": 107,
   "metadata": {},
   "outputs": [
    {
     "data": {
      "text/html": [
       "<div>\n",
       "<style scoped>\n",
       "    .dataframe tbody tr th:only-of-type {\n",
       "        vertical-align: middle;\n",
       "    }\n",
       "\n",
       "    .dataframe tbody tr th {\n",
       "        vertical-align: top;\n",
       "    }\n",
       "\n",
       "    .dataframe thead th {\n",
       "        text-align: right;\n",
       "    }\n",
       "</style>\n",
       "<table border=\"1\" class=\"dataframe\">\n",
       "  <thead>\n",
       "    <tr style=\"text-align: right;\">\n",
       "      <th></th>\n",
       "      <th>code</th>\n",
       "      <th>id</th>\n",
       "      <th>equipement_id</th>\n",
       "      <th>date</th>\n",
       "      <th>x0</th>\n",
       "      <th>voie</th>\n",
       "      <th>horodatage</th>\n",
       "      <th>vitesse</th>\n",
       "      <th>longueur</th>\n",
       "    </tr>\n",
       "  </thead>\n",
       "  <tbody>\n",
       "    <tr>\n",
       "      <th>0</th>\n",
       "      <td>M7i</td>\n",
       "      <td>6460</td>\n",
       "      <td>6460</td>\n",
       "      <td>2019-02-18 00:00:03.049</td>\n",
       "      <td>0</td>\n",
       "      <td>0</td>\n",
       "      <td></td>\n",
       "      <td></td>\n",
       "      <td></td>\n",
       "    </tr>\n",
       "    <tr>\n",
       "      <th>1</th>\n",
       "      <td>M7i</td>\n",
       "      <td>6460</td>\n",
       "      <td>6460</td>\n",
       "      <td>2019-02-18 00:00:15.049</td>\n",
       "      <td>14148093033</td>\n",
       "      <td>1</td>\n",
       "      <td>4148</td>\n",
       "      <td>093</td>\n",
       "      <td>033</td>\n",
       "    </tr>\n",
       "    <tr>\n",
       "      <th>2</th>\n",
       "      <td>M7i</td>\n",
       "      <td>6460</td>\n",
       "      <td>6460</td>\n",
       "      <td>2019-02-18 00:00:21.049</td>\n",
       "      <td>0</td>\n",
       "      <td>0</td>\n",
       "      <td></td>\n",
       "      <td></td>\n",
       "      <td></td>\n",
       "    </tr>\n",
       "    <tr>\n",
       "      <th>3</th>\n",
       "      <td>M7i</td>\n",
       "      <td>6460</td>\n",
       "      <td>6460</td>\n",
       "      <td>2019-02-18 00:00:26.549</td>\n",
       "      <td>05354096031</td>\n",
       "      <td>0</td>\n",
       "      <td>5354</td>\n",
       "      <td>096</td>\n",
       "      <td>031</td>\n",
       "    </tr>\n",
       "    <tr>\n",
       "      <th>4</th>\n",
       "      <td>M7i</td>\n",
       "      <td>6460</td>\n",
       "      <td>6460</td>\n",
       "      <td>2019-02-18 00:00:33.049</td>\n",
       "      <td>0</td>\n",
       "      <td>0</td>\n",
       "      <td></td>\n",
       "      <td></td>\n",
       "      <td></td>\n",
       "    </tr>\n",
       "  </tbody>\n",
       "</table>\n",
       "</div>"
      ],
      "text/plain": [
       "  code    id  equipement_id                     date           x0 voie  \\\n",
       "0  M7i  6460           6460  2019-02-18 00:00:03.049            0    0   \n",
       "1  M7i  6460           6460  2019-02-18 00:00:15.049  14148093033    1   \n",
       "2  M7i  6460           6460  2019-02-18 00:00:21.049            0    0   \n",
       "3  M7i  6460           6460  2019-02-18 00:00:26.549  05354096031    0   \n",
       "4  M7i  6460           6460  2019-02-18 00:00:33.049            0    0   \n",
       "\n",
       "  horodatage vitesse longueur  \n",
       "0                              \n",
       "1       4148     093      033  \n",
       "2                              \n",
       "3       5354     096      031  \n",
       "4                              "
      ]
     },
     "execution_count": 107,
     "metadata": {},
     "output_type": "execute_result"
    }
   ],
   "source": [
    "df0.head()"
   ]
  },
  {
   "cell_type": "markdown",
   "metadata": {},
   "source": [
    "Afin de concatener les tables, il faut renommer les colonnes $x_{i}$ par x."
   ]
  },
  {
   "cell_type": "code",
   "execution_count": 108,
   "metadata": {},
   "outputs": [],
   "source": [
    "# rename columns\n",
    "for i,f in zip(range( len(liste)), liste2):\n",
    "    \n",
    "    f.rename(columns={liste[i]:'x'}, inplace=True)"
   ]
  },
  {
   "cell_type": "code",
   "execution_count": 109,
   "metadata": {},
   "outputs": [
    {
     "data": {
      "text/html": [
       "<div>\n",
       "<style scoped>\n",
       "    .dataframe tbody tr th:only-of-type {\n",
       "        vertical-align: middle;\n",
       "    }\n",
       "\n",
       "    .dataframe tbody tr th {\n",
       "        vertical-align: top;\n",
       "    }\n",
       "\n",
       "    .dataframe thead th {\n",
       "        text-align: right;\n",
       "    }\n",
       "</style>\n",
       "<table border=\"1\" class=\"dataframe\">\n",
       "  <thead>\n",
       "    <tr style=\"text-align: right;\">\n",
       "      <th></th>\n",
       "      <th>code</th>\n",
       "      <th>id</th>\n",
       "      <th>equipement_id</th>\n",
       "      <th>date</th>\n",
       "      <th>x</th>\n",
       "      <th>voie</th>\n",
       "      <th>horodatage</th>\n",
       "      <th>vitesse</th>\n",
       "      <th>longueur</th>\n",
       "    </tr>\n",
       "  </thead>\n",
       "  <tbody>\n",
       "    <tr>\n",
       "      <th>0</th>\n",
       "      <td>M7i</td>\n",
       "      <td>6460</td>\n",
       "      <td>6460</td>\n",
       "      <td>2019-02-18 00:00:03.049</td>\n",
       "      <td></td>\n",
       "      <td></td>\n",
       "      <td></td>\n",
       "      <td></td>\n",
       "      <td></td>\n",
       "    </tr>\n",
       "  </tbody>\n",
       "</table>\n",
       "</div>"
      ],
      "text/plain": [
       "  code    id  equipement_id                     date x voie horodatage  \\\n",
       "0  M7i  6460           6460  2019-02-18 00:00:03.049                     \n",
       "\n",
       "  vitesse longueur  \n",
       "0                   "
      ]
     },
     "execution_count": 109,
     "metadata": {},
     "output_type": "execute_result"
    }
   ],
   "source": [
    "df5.head(1)"
   ]
  },
  {
   "cell_type": "code",
   "execution_count": 110,
   "metadata": {},
   "outputs": [],
   "source": [
    "frames = [df0, df1, df2, df3, df4, df5, df6, df7, df8, df9, df10, df11, df12, df13]\n",
    "\n",
    "result = pd.concat(frames)"
   ]
  },
  {
   "cell_type": "code",
   "execution_count": 111,
   "metadata": {},
   "outputs": [],
   "source": [
    "# Reindexer la dataframe\n",
    "result.index = range(len(result))"
   ]
  },
  {
   "cell_type": "markdown",
   "metadata": {},
   "source": [
    "Il faut élilminer les lignes ou le x est vide ou vaut 0."
   ]
  },
  {
   "cell_type": "code",
   "execution_count": 112,
   "metadata": {},
   "outputs": [],
   "source": [
    "# lignes differentes de zero\n",
    "df = result[result.x != '0']"
   ]
  },
  {
   "cell_type": "code",
   "execution_count": 113,
   "metadata": {},
   "outputs": [
    {
     "data": {
      "text/html": [
       "<div>\n",
       "<style scoped>\n",
       "    .dataframe tbody tr th:only-of-type {\n",
       "        vertical-align: middle;\n",
       "    }\n",
       "\n",
       "    .dataframe tbody tr th {\n",
       "        vertical-align: top;\n",
       "    }\n",
       "\n",
       "    .dataframe thead th {\n",
       "        text-align: right;\n",
       "    }\n",
       "</style>\n",
       "<table border=\"1\" class=\"dataframe\">\n",
       "  <thead>\n",
       "    <tr style=\"text-align: right;\">\n",
       "      <th></th>\n",
       "      <th>code</th>\n",
       "      <th>id</th>\n",
       "      <th>equipement_id</th>\n",
       "      <th>date</th>\n",
       "      <th>x</th>\n",
       "      <th>voie</th>\n",
       "      <th>horodatage</th>\n",
       "      <th>vitesse</th>\n",
       "      <th>longueur</th>\n",
       "    </tr>\n",
       "  </thead>\n",
       "  <tbody>\n",
       "    <tr>\n",
       "      <th>1</th>\n",
       "      <td>M7i</td>\n",
       "      <td>6460</td>\n",
       "      <td>6460</td>\n",
       "      <td>2019-02-18 00:00:15.049</td>\n",
       "      <td>14148093033</td>\n",
       "      <td>1</td>\n",
       "      <td>4148</td>\n",
       "      <td>093</td>\n",
       "      <td>033</td>\n",
       "    </tr>\n",
       "    <tr>\n",
       "      <th>3</th>\n",
       "      <td>M7i</td>\n",
       "      <td>6460</td>\n",
       "      <td>6460</td>\n",
       "      <td>2019-02-18 00:00:26.549</td>\n",
       "      <td>05354096031</td>\n",
       "      <td>0</td>\n",
       "      <td>5354</td>\n",
       "      <td>096</td>\n",
       "      <td>031</td>\n",
       "    </tr>\n",
       "    <tr>\n",
       "      <th>5</th>\n",
       "      <td>M7i</td>\n",
       "      <td>6460</td>\n",
       "      <td>6460</td>\n",
       "      <td>2019-02-18 00:00:38.549</td>\n",
       "      <td>10050094039</td>\n",
       "      <td>1</td>\n",
       "      <td>0050</td>\n",
       "      <td>094</td>\n",
       "      <td>039</td>\n",
       "    </tr>\n",
       "    <tr>\n",
       "      <th>7</th>\n",
       "      <td>M7i</td>\n",
       "      <td>6460</td>\n",
       "      <td>6460</td>\n",
       "      <td>2019-02-18 00:00:50.548</td>\n",
       "      <td>01469102037</td>\n",
       "      <td>0</td>\n",
       "      <td>1469</td>\n",
       "      <td>102</td>\n",
       "      <td>037</td>\n",
       "    </tr>\n",
       "    <tr>\n",
       "      <th>8</th>\n",
       "      <td>M7i</td>\n",
       "      <td>6460</td>\n",
       "      <td>6460</td>\n",
       "      <td>2019-02-18 00:00:56.549</td>\n",
       "      <td>11973117040</td>\n",
       "      <td>1</td>\n",
       "      <td>1973</td>\n",
       "      <td>117</td>\n",
       "      <td>040</td>\n",
       "    </tr>\n",
       "  </tbody>\n",
       "</table>\n",
       "</div>"
      ],
      "text/plain": [
       "  code    id  equipement_id                     date            x voie  \\\n",
       "1  M7i  6460           6460  2019-02-18 00:00:15.049  14148093033    1   \n",
       "3  M7i  6460           6460  2019-02-18 00:00:26.549  05354096031    0   \n",
       "5  M7i  6460           6460  2019-02-18 00:00:38.549  10050094039    1   \n",
       "7  M7i  6460           6460  2019-02-18 00:00:50.548  01469102037    0   \n",
       "8  M7i  6460           6460  2019-02-18 00:00:56.549  11973117040    1   \n",
       "\n",
       "  horodatage vitesse longueur  \n",
       "1       4148     093      033  \n",
       "3       5354     096      031  \n",
       "5       0050     094      039  \n",
       "7       1469     102      037  \n",
       "8       1973     117      040  "
      ]
     },
     "execution_count": 113,
     "metadata": {},
     "output_type": "execute_result"
    }
   ],
   "source": [
    "df.head()"
   ]
  },
  {
   "cell_type": "code",
   "execution_count": 114,
   "metadata": {},
   "outputs": [
    {
     "name": "stderr",
     "output_type": "stream",
     "text": [
      "C:\\Users\\oumayma.doughmi\\ANACONDA\\lib\\site-packages\\ipykernel_launcher.py:4: SettingWithCopyWarning: \n",
      "A value is trying to be set on a copy of a slice from a DataFrame.\n",
      "Try using .loc[row_indexer,col_indexer] = value instead\n",
      "\n",
      "See the caveats in the documentation: http://pandas.pydata.org/pandas-docs/stable/indexing.html#indexing-view-versus-copy\n",
      "  after removing the cwd from sys.path.\n"
     ]
    }
   ],
   "source": [
    "# Convertir les colonnes a la fois de string à numerique\n",
    "c = ['x', 'horodatage', 'vitesse', 'longueur']\n",
    "for i in c:\n",
    "    df[i] = pd.to_numeric(df[i] ,errors='coerce')"
   ]
  },
  {
   "cell_type": "code",
   "execution_count": 115,
   "metadata": {},
   "outputs": [],
   "source": [
    "# Eliminer les lignes vides\n",
    "df = df.dropna(axis=0, how='any', thresh=None, subset=None, inplace=False)"
   ]
  },
  {
   "cell_type": "code",
   "execution_count": 116,
   "metadata": {},
   "outputs": [],
   "source": [
    "#Exporter la table\n",
    "df.to_csv('df_5sc.csv', index = False, encoding = 'utf-8')"
   ]
  },
  {
   "cell_type": "markdown",
   "metadata": {},
   "source": [
    " Voici le lien vers la table de données de de 18/02/2019 00:00 jusqu'à 18/02/2019 16:22 :\n",
    " \n",
    " https://github.com/Oumayma13/Data_5sc\n",
    " \n",
    " Sous le nom de 'df_5sc'."
   ]
  },
  {
   "cell_type": "markdown",
   "metadata": {},
   "source": [
    "# Rassembler les données:"
   ]
  },
  {
   "cell_type": "code",
   "execution_count": 117,
   "metadata": {},
   "outputs": [],
   "source": [
    "# library datetime\n",
    "from datetime import datetime\n",
    "from pandas import datetime"
   ]
  },
  {
   "cell_type": "code",
   "execution_count": 118,
   "metadata": {},
   "outputs": [
    {
     "data": {
      "text/html": [
       "<div>\n",
       "<style scoped>\n",
       "    .dataframe tbody tr th:only-of-type {\n",
       "        vertical-align: middle;\n",
       "    }\n",
       "\n",
       "    .dataframe tbody tr th {\n",
       "        vertical-align: top;\n",
       "    }\n",
       "\n",
       "    .dataframe thead th {\n",
       "        text-align: right;\n",
       "    }\n",
       "</style>\n",
       "<table border=\"1\" class=\"dataframe\">\n",
       "  <thead>\n",
       "    <tr style=\"text-align: right;\">\n",
       "      <th></th>\n",
       "      <th>code</th>\n",
       "      <th>id</th>\n",
       "      <th>equipement_id</th>\n",
       "      <th>date</th>\n",
       "      <th>x</th>\n",
       "      <th>voie</th>\n",
       "      <th>horodatage</th>\n",
       "      <th>vitesse</th>\n",
       "      <th>longueur</th>\n",
       "    </tr>\n",
       "    <tr>\n",
       "      <th>date</th>\n",
       "      <th></th>\n",
       "      <th></th>\n",
       "      <th></th>\n",
       "      <th></th>\n",
       "      <th></th>\n",
       "      <th></th>\n",
       "      <th></th>\n",
       "      <th></th>\n",
       "      <th></th>\n",
       "    </tr>\n",
       "  </thead>\n",
       "  <tbody>\n",
       "    <tr>\n",
       "      <th>2019-02-18 00:00:15.049</th>\n",
       "      <td>M7i</td>\n",
       "      <td>6460</td>\n",
       "      <td>6460</td>\n",
       "      <td>2019-02-18 00:00:15.049</td>\n",
       "      <td>1.414809e+10</td>\n",
       "      <td>1</td>\n",
       "      <td>4148.0</td>\n",
       "      <td>93.0</td>\n",
       "      <td>33.0</td>\n",
       "    </tr>\n",
       "    <tr>\n",
       "      <th>2019-02-18 00:00:26.549</th>\n",
       "      <td>M7i</td>\n",
       "      <td>6460</td>\n",
       "      <td>6460</td>\n",
       "      <td>2019-02-18 00:00:26.549</td>\n",
       "      <td>5.354096e+09</td>\n",
       "      <td>0</td>\n",
       "      <td>5354.0</td>\n",
       "      <td>96.0</td>\n",
       "      <td>31.0</td>\n",
       "    </tr>\n",
       "  </tbody>\n",
       "</table>\n",
       "</div>"
      ],
      "text/plain": [
       "                        code    id  equipement_id                    date  \\\n",
       "date                                                                        \n",
       "2019-02-18 00:00:15.049  M7i  6460           6460 2019-02-18 00:00:15.049   \n",
       "2019-02-18 00:00:26.549  M7i  6460           6460 2019-02-18 00:00:26.549   \n",
       "\n",
       "                                    x voie  horodatage  vitesse  longueur  \n",
       "date                                                                       \n",
       "2019-02-18 00:00:15.049  1.414809e+10    1      4148.0     93.0      33.0  \n",
       "2019-02-18 00:00:26.549  5.354096e+09    0      5354.0     96.0      31.0  "
      ]
     },
     "execution_count": 118,
     "metadata": {},
     "output_type": "execute_result"
    }
   ],
   "source": [
    "# convertir le champs date to datetime\n",
    "df['date'] = pd.to_datetime(df['date'])\n",
    "# Définir la colonne DateTime comme index\n",
    "df.index = df['date']\n",
    "df.head(2)"
   ]
  },
  {
   "cell_type": "code",
   "execution_count": 119,
   "metadata": {},
   "outputs": [],
   "source": [
    "# rassembler par une minute.\n",
    "df_1T = df.resample('1T').mean()"
   ]
  },
  {
   "cell_type": "code",
   "execution_count": 120,
   "metadata": {},
   "outputs": [
    {
     "data": {
      "text/html": [
       "<div>\n",
       "<style scoped>\n",
       "    .dataframe tbody tr th:only-of-type {\n",
       "        vertical-align: middle;\n",
       "    }\n",
       "\n",
       "    .dataframe tbody tr th {\n",
       "        vertical-align: top;\n",
       "    }\n",
       "\n",
       "    .dataframe thead th {\n",
       "        text-align: right;\n",
       "    }\n",
       "</style>\n",
       "<table border=\"1\" class=\"dataframe\">\n",
       "  <thead>\n",
       "    <tr style=\"text-align: right;\">\n",
       "      <th></th>\n",
       "      <th>id</th>\n",
       "      <th>equipement_id</th>\n",
       "      <th>x</th>\n",
       "      <th>horodatage</th>\n",
       "      <th>vitesse</th>\n",
       "      <th>longueur</th>\n",
       "    </tr>\n",
       "    <tr>\n",
       "      <th>date</th>\n",
       "      <th></th>\n",
       "      <th></th>\n",
       "      <th></th>\n",
       "      <th></th>\n",
       "      <th></th>\n",
       "      <th></th>\n",
       "    </tr>\n",
       "  </thead>\n",
       "  <tbody>\n",
       "    <tr>\n",
       "      <th>2019-02-18 00:00:00</th>\n",
       "      <td>6460.0</td>\n",
       "      <td>6460.0</td>\n",
       "      <td>8.598900e+09</td>\n",
       "      <td>2598.800</td>\n",
       "      <td>100.400000</td>\n",
       "      <td>36.000000</td>\n",
       "    </tr>\n",
       "    <tr>\n",
       "      <th>2019-02-18 00:01:00</th>\n",
       "      <td>6460.0</td>\n",
       "      <td>6460.0</td>\n",
       "      <td>1.440199e+10</td>\n",
       "      <td>3151.875</td>\n",
       "      <td>113.625000</td>\n",
       "      <td>40.750000</td>\n",
       "    </tr>\n",
       "    <tr>\n",
       "      <th>2019-02-18 00:02:00</th>\n",
       "      <td>6460.0</td>\n",
       "      <td>6460.0</td>\n",
       "      <td>6.871854e+09</td>\n",
       "      <td>4371.750</td>\n",
       "      <td>104.250000</td>\n",
       "      <td>43.000000</td>\n",
       "    </tr>\n",
       "    <tr>\n",
       "      <th>2019-02-18 00:03:00</th>\n",
       "      <td>6460.0</td>\n",
       "      <td>6460.0</td>\n",
       "      <td>1.017536e+10</td>\n",
       "      <td>2675.250</td>\n",
       "      <td>105.125000</td>\n",
       "      <td>43.125000</td>\n",
       "    </tr>\n",
       "    <tr>\n",
       "      <th>2019-02-18 00:04:00</th>\n",
       "      <td>6460.0</td>\n",
       "      <td>6460.0</td>\n",
       "      <td>1.173395e+10</td>\n",
       "      <td>3400.500</td>\n",
       "      <td>113.166667</td>\n",
       "      <td>35.166667</td>\n",
       "    </tr>\n",
       "  </tbody>\n",
       "</table>\n",
       "</div>"
      ],
      "text/plain": [
       "                         id  equipement_id             x  horodatage  \\\n",
       "date                                                                   \n",
       "2019-02-18 00:00:00  6460.0         6460.0  8.598900e+09    2598.800   \n",
       "2019-02-18 00:01:00  6460.0         6460.0  1.440199e+10    3151.875   \n",
       "2019-02-18 00:02:00  6460.0         6460.0  6.871854e+09    4371.750   \n",
       "2019-02-18 00:03:00  6460.0         6460.0  1.017536e+10    2675.250   \n",
       "2019-02-18 00:04:00  6460.0         6460.0  1.173395e+10    3400.500   \n",
       "\n",
       "                        vitesse   longueur  \n",
       "date                                        \n",
       "2019-02-18 00:00:00  100.400000  36.000000  \n",
       "2019-02-18 00:01:00  113.625000  40.750000  \n",
       "2019-02-18 00:02:00  104.250000  43.000000  \n",
       "2019-02-18 00:03:00  105.125000  43.125000  \n",
       "2019-02-18 00:04:00  113.166667  35.166667  "
      ]
     },
     "execution_count": 120,
     "metadata": {},
     "output_type": "execute_result"
    }
   ],
   "source": [
    "df_1T.head()"
   ]
  },
  {
   "cell_type": "code",
   "execution_count": 121,
   "metadata": {},
   "outputs": [
    {
     "data": {
      "text/plain": [
       "983"
      ]
     },
     "execution_count": 121,
     "metadata": {},
     "output_type": "execute_result"
    }
   ],
   "source": [
    "# nombre de minutes\n",
    "len(df_1T)"
   ]
  },
  {
   "cell_type": "code",
   "execution_count": 123,
   "metadata": {},
   "outputs": [],
   "source": [
    "df_1T['date'] = df_1T.index \n",
    "# Reindexer la dataframe\n",
    "df_1T.index = range(len(df_1T))"
   ]
  },
  {
   "cell_type": "code",
   "execution_count": 124,
   "metadata": {},
   "outputs": [
    {
     "data": {
      "text/html": [
       "<div>\n",
       "<style scoped>\n",
       "    .dataframe tbody tr th:only-of-type {\n",
       "        vertical-align: middle;\n",
       "    }\n",
       "\n",
       "    .dataframe tbody tr th {\n",
       "        vertical-align: top;\n",
       "    }\n",
       "\n",
       "    .dataframe thead th {\n",
       "        text-align: right;\n",
       "    }\n",
       "</style>\n",
       "<table border=\"1\" class=\"dataframe\">\n",
       "  <thead>\n",
       "    <tr style=\"text-align: right;\">\n",
       "      <th></th>\n",
       "      <th>id</th>\n",
       "      <th>equipement_id</th>\n",
       "      <th>x</th>\n",
       "      <th>horodatage</th>\n",
       "      <th>vitesse</th>\n",
       "      <th>longueur</th>\n",
       "    </tr>\n",
       "    <tr>\n",
       "      <th>date</th>\n",
       "      <th></th>\n",
       "      <th></th>\n",
       "      <th></th>\n",
       "      <th></th>\n",
       "      <th></th>\n",
       "      <th></th>\n",
       "    </tr>\n",
       "  </thead>\n",
       "  <tbody>\n",
       "    <tr>\n",
       "      <th>2019-02-18 00:00:00</th>\n",
       "      <td>6460.0</td>\n",
       "      <td>6460.0</td>\n",
       "      <td>1.153889e+10</td>\n",
       "      <td>3205.452381</td>\n",
       "      <td>107.000000</td>\n",
       "      <td>39.285714</td>\n",
       "    </tr>\n",
       "    <tr>\n",
       "      <th>2019-02-18 00:06:00</th>\n",
       "      <td>6460.0</td>\n",
       "      <td>6460.0</td>\n",
       "      <td>1.060299e+10</td>\n",
       "      <td>3745.742857</td>\n",
       "      <td>104.685714</td>\n",
       "      <td>41.142857</td>\n",
       "    </tr>\n",
       "    <tr>\n",
       "      <th>2019-02-18 00:12:00</th>\n",
       "      <td>6460.0</td>\n",
       "      <td>6460.0</td>\n",
       "      <td>9.723504e+09</td>\n",
       "      <td>2723.400000</td>\n",
       "      <td>104.366667</td>\n",
       "      <td>42.266667</td>\n",
       "    </tr>\n",
       "    <tr>\n",
       "      <th>2019-02-18 00:18:00</th>\n",
       "      <td>6460.0</td>\n",
       "      <td>6460.0</td>\n",
       "      <td>6.845782e+09</td>\n",
       "      <td>2754.772727</td>\n",
       "      <td>100.272727</td>\n",
       "      <td>39.363636</td>\n",
       "    </tr>\n",
       "    <tr>\n",
       "      <th>2019-02-18 00:24:00</th>\n",
       "      <td>6460.0</td>\n",
       "      <td>6460.0</td>\n",
       "      <td>7.811376e+09</td>\n",
       "      <td>3265.818182</td>\n",
       "      <td>102.954545</td>\n",
       "      <td>46.818182</td>\n",
       "    </tr>\n",
       "  </tbody>\n",
       "</table>\n",
       "</div>"
      ],
      "text/plain": [
       "                         id  equipement_id             x   horodatage  \\\n",
       "date                                                                    \n",
       "2019-02-18 00:00:00  6460.0         6460.0  1.153889e+10  3205.452381   \n",
       "2019-02-18 00:06:00  6460.0         6460.0  1.060299e+10  3745.742857   \n",
       "2019-02-18 00:12:00  6460.0         6460.0  9.723504e+09  2723.400000   \n",
       "2019-02-18 00:18:00  6460.0         6460.0  6.845782e+09  2754.772727   \n",
       "2019-02-18 00:24:00  6460.0         6460.0  7.811376e+09  3265.818182   \n",
       "\n",
       "                        vitesse   longueur  \n",
       "date                                        \n",
       "2019-02-18 00:00:00  107.000000  39.285714  \n",
       "2019-02-18 00:06:00  104.685714  41.142857  \n",
       "2019-02-18 00:12:00  104.366667  42.266667  \n",
       "2019-02-18 00:18:00  100.272727  39.363636  \n",
       "2019-02-18 00:24:00  102.954545  46.818182  "
      ]
     },
     "execution_count": 124,
     "metadata": {},
     "output_type": "execute_result"
    }
   ],
   "source": [
    "# rassembler par 6 minutes.\n",
    "df_6T = df.resample('6T').mean()\n",
    "df_6T.head()"
   ]
  },
  {
   "cell_type": "code",
   "execution_count": 127,
   "metadata": {},
   "outputs": [
    {
     "data": {
      "text/plain": [
       "<matplotlib.axes._subplots.AxesSubplot at 0x1f721a49ef0>"
      ]
     },
     "execution_count": 127,
     "metadata": {},
     "output_type": "execute_result"
    },
    {
     "data": {
      "image/png": "[encoded data removed]",
      "text/plain": [
       "<Figure size 1008x504 with 1 Axes>"
      ]
     },
     "metadata": {},
     "output_type": "display_data"
    }
   ],
   "source": []
  },
  {
   "cell_type": "code",
   "execution_count": null,
   "metadata": {},
   "outputs": [],
   "source": []
  }
 ],
 "metadata": {
  "kernelspec": {
   "display_name": "Python 3",
   "language": "python",
   "name": "python3"
  },
  "language_info": {
   "codemirror_mode": {
    "name": "ipython",
    "version": 3
   },
   "file_extension": ".py",
   "mimetype": "text/x-python",
   "name": "python",
   "nbconvert_exporter": "python",
   "pygments_lexer": "ipython3",
   "version": "3.7.3"
  }
 },
 "nbformat": 4,
 "nbformat_minor": 2
}
