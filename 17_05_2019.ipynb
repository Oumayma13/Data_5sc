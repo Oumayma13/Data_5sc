{
 "cells": [
  {
   "cell_type": "markdown",
   "metadata": {},
   "source": [
    "# Données de 18/02/2019 00:00:15 jusqu'à 24/02/2019 20:50:57 des stations : \n",
    "- M7i (A7, Sens2 , $264+687$).\n",
    "- M7I (A7, Sens1 , $264+687$).\n",
    "- M7j (A7, Sens2 , $265+320$).\n",
    "- M7J (A7, Sens1 , $265+320$)."
   ]
  },
  {
   "cell_type": "code",
   "execution_count": 1,
   "metadata": {},
   "outputs": [],
   "source": [
    "#Charger les biblio\n",
    "import numpy as np\n",
    "import pandas as pd\n",
    "from pandas import read_csv\n",
    "import matplotlib.pyplot as plt\n",
    "from matplotlib import cm\n",
    "import seaborn as sns\n",
    "import numpy as np\n",
    "import string \n",
    "from subprocess import check_output\n",
    "import seaborn as sns\n",
    "from pylab import *\n",
    "%matplotlib inline\n",
    "sns.set()"
   ]
  },
  {
   "cell_type": "code",
   "execution_count": 2,
   "metadata": {},
   "outputs": [],
   "source": [
    "# Lire la table avec 'header'\n",
    "df = pd.read_csv('Hmvl33.csv', sep=';', engine='python')"
   ]
  },
  {
   "cell_type": "code",
   "execution_count": 3,
   "metadata": {},
   "outputs": [],
   "source": [
    "# Remplacer les NaN par des zeros dans trame_hmvl\n",
    "df.trame_hmvl.fillna('0', inplace=True)"
   ]
  },
  {
   "cell_type": "code",
   "execution_count": 4,
   "metadata": {},
   "outputs": [],
   "source": [
    "# Reindexer la dataframe\n",
    "df.index = range(len(df))"
   ]
  },
  {
   "cell_type": "code",
   "execution_count": 5,
   "metadata": {},
   "outputs": [],
   "source": [
    "#changeaons les noms de colonnes\n",
    "df.columns = ['code', 'id','equipement_id', 'date','trame']"
   ]
  },
  {
   "cell_type": "code",
   "execution_count": 6,
   "metadata": {},
   "outputs": [],
   "source": [
    "# On enlève les @\n",
    "df[\"trame\"] = df[\"trame\"].str.replace(\"@\", \"\")"
   ]
  },
  {
   "cell_type": "code",
   "execution_count": 9,
   "metadata": {},
   "outputs": [],
   "source": [
    "grouped = df.groupby('code')"
   ]
  },
  {
   "cell_type": "code",
   "execution_count": 27,
   "metadata": {},
   "outputs": [],
   "source": [
    "M7i = grouped.get_group('M7i')\n",
    "M7I = grouped.get_group('M7I')\n",
    "M7j = grouped.get_group('M7j')\n",
    "M7J = grouped.get_group('M7J')\n",
    "liste = [M7i, M7J, M7j, M7I]"
   ]
  },
  {
   "cell_type": "code",
   "execution_count": 28,
   "metadata": {},
   "outputs": [],
   "source": [
    "# Concatener les data\n",
    "df = pd.concat(liste)"
   ]
  },
  {
   "cell_type": "code",
   "execution_count": 29,
   "metadata": {},
   "outputs": [],
   "source": [
    "liste = [\"x0\",\"x1\",\"x2\",\"x3\",\"x4\",\"x5\",\"x6\",\"x7\",\"x8\",\"x9\",'x10']\n",
    "# Ajouter les colonnes, en séparant la colonne 'trame' \n",
    "for i in range(len(liste)):\n",
    "    df[liste[i]] = df[\"trame\"].str.slice(11*i,11*(i+1))"
   ]
  },
  {
   "cell_type": "code",
   "execution_count": 30,
   "metadata": {},
   "outputs": [],
   "source": [
    "# Supprimer les colonnes xj\n",
    "df0 = df.drop(['x3','x1','x2','x4','x5','x6','x7','x8', 'x9', 'x10', 'trame'], axis=1)\n",
    "# df1\n",
    "df1 = df.drop(['x3','x0','x2','x4','x5','x6','x7','x8', 'x9', 'x10',  'trame'], axis=1)\n",
    "df2 = df.drop(['x3','x1','x0','x4','x5','x6','x7','x8', 'x9', 'x10', 'trame'], axis=1)\n",
    "df3 = df.drop(['x0','x1','x2','x4','x5','x6','x7','x8', 'x9', 'x10', 'trame'], axis=1)\n",
    "df4 = df.drop(['x0','x1','x2','x3','x5','x6','x7','x8', 'x9', 'x10', 'trame'], axis=1)\n",
    "df5 = df.drop(['x0','x1','x2','x4','x3','x6','x7','x8', 'x9', 'x10', 'trame'], axis=1)\n",
    "df6 = df.drop(['x0','x1','x2','x4','x5','x3','x7','x8', 'x9', 'x10', 'trame'], axis=1)\n",
    "df7 = df.drop(['x0','x1','x2','x4','x5','x6','x3','x8', 'x9', 'x10', 'trame'], axis=1)\n",
    "df8 = df.drop(['x0','x1','x2','x4','x5','x6','x3','x7', 'x9', 'x10', 'trame'], axis=1)\n",
    "df9 = df.drop(['x0','x1','x2','x4','x5','x6','x3','x7', 'x8', 'x10',  'trame'], axis=1)\n",
    "\n",
    "df10 = df.drop(['x0','x1','x2','x4','x5','x6','x3','x7', 'x9', 'x8','trame'], axis=1)"
   ]
  },
  {
   "cell_type": "code",
   "execution_count": 31,
   "metadata": {},
   "outputs": [],
   "source": [
    "liste = [\"x0\",\"x1\",\"x2\",\"x3\",\"x4\",\"x5\",\"x6\",\"x7\",\"x8\",\"x9\",'x10']\n",
    "liste2 = [df0,df1,df2,df3,df4,df5,df6,df7,df8,df9,df10]\n",
    "\n",
    "    # Séparer la colonne xi en 4 colonnes  \n",
    "for i, f in zip(range( len(liste)), liste2):\n",
    "    f[\"voie\"] = f[liste[i]].str.slice(0,1)\n",
    "    f[\"horodatage\"] = f[liste[i]].str.slice(1,5)\n",
    "    f[\"vitesse\"] = f[liste[i]].str.slice(5,8)\n",
    "    f[\"longueur\"] = f[liste[i]].str.slice(8,11)"
   ]
  },
  {
   "cell_type": "code",
   "execution_count": 32,
   "metadata": {},
   "outputs": [],
   "source": [
    "# rename columns\n",
    "for i,f in zip(range( len(liste)), liste2):\n",
    "    \n",
    "    f.rename(columns={liste[i]:'x'}, inplace=True)"
   ]
  },
  {
   "cell_type": "code",
   "execution_count": 33,
   "metadata": {},
   "outputs": [],
   "source": [
    "# Concatener les data\n",
    "result = pd.concat(liste2)"
   ]
  },
  {
   "cell_type": "code",
   "execution_count": 37,
   "metadata": {},
   "outputs": [],
   "source": [
    "# On ajoute une colonne Count pour compter chacune\n",
    "result['len'] = result['x'].str.len()\n",
    "# Eliminer les lignes = 0 et 1\n",
    "result = result[result.len != 0]\n",
    "result = result[result.len != 1]"
   ]
  },
  {
   "cell_type": "code",
   "execution_count": 39,
   "metadata": {},
   "outputs": [
    {
     "data": {
      "text/html": [
       "<div>\n",
       "<style scoped>\n",
       "    .dataframe tbody tr th:only-of-type {\n",
       "        vertical-align: middle;\n",
       "    }\n",
       "\n",
       "    .dataframe tbody tr th {\n",
       "        vertical-align: top;\n",
       "    }\n",
       "\n",
       "    .dataframe thead th {\n",
       "        text-align: right;\n",
       "    }\n",
       "</style>\n",
       "<table border=\"1\" class=\"dataframe\">\n",
       "  <thead>\n",
       "    <tr style=\"text-align: right;\">\n",
       "      <th></th>\n",
       "      <th>code</th>\n",
       "      <th>id</th>\n",
       "      <th>equipement_id</th>\n",
       "      <th>date</th>\n",
       "      <th>x</th>\n",
       "      <th>voie</th>\n",
       "      <th>horodatage</th>\n",
       "      <th>vitesse</th>\n",
       "      <th>longueur</th>\n",
       "      <th>len</th>\n",
       "    </tr>\n",
       "  </thead>\n",
       "  <tbody>\n",
       "    <tr>\n",
       "      <th>0</th>\n",
       "      <td>M7i</td>\n",
       "      <td>6460</td>\n",
       "      <td>6460</td>\n",
       "      <td>2019-02-18 00:00:15.049</td>\n",
       "      <td>14148093033</td>\n",
       "      <td>1</td>\n",
       "      <td>4148</td>\n",
       "      <td>093</td>\n",
       "      <td>033</td>\n",
       "      <td>11</td>\n",
       "    </tr>\n",
       "    <tr>\n",
       "      <th>1</th>\n",
       "      <td>M7i</td>\n",
       "      <td>6460</td>\n",
       "      <td>6460</td>\n",
       "      <td>2019-02-18 00:00:26.549</td>\n",
       "      <td>05354096031</td>\n",
       "      <td>0</td>\n",
       "      <td>5354</td>\n",
       "      <td>096</td>\n",
       "      <td>031</td>\n",
       "      <td>11</td>\n",
       "    </tr>\n",
       "    <tr>\n",
       "      <th>2</th>\n",
       "      <td>M7i</td>\n",
       "      <td>6460</td>\n",
       "      <td>6460</td>\n",
       "      <td>2019-02-18 00:00:38.549</td>\n",
       "      <td>10050094039</td>\n",
       "      <td>1</td>\n",
       "      <td>0050</td>\n",
       "      <td>094</td>\n",
       "      <td>039</td>\n",
       "      <td>11</td>\n",
       "    </tr>\n",
       "    <tr>\n",
       "      <th>3</th>\n",
       "      <td>M7i</td>\n",
       "      <td>6460</td>\n",
       "      <td>6460</td>\n",
       "      <td>2019-02-18 00:00:50.548</td>\n",
       "      <td>01469102037</td>\n",
       "      <td>0</td>\n",
       "      <td>1469</td>\n",
       "      <td>102</td>\n",
       "      <td>037</td>\n",
       "      <td>11</td>\n",
       "    </tr>\n",
       "    <tr>\n",
       "      <th>4</th>\n",
       "      <td>M7i</td>\n",
       "      <td>6460</td>\n",
       "      <td>6460</td>\n",
       "      <td>2019-02-18 00:00:56.549</td>\n",
       "      <td>11973117040</td>\n",
       "      <td>1</td>\n",
       "      <td>1973</td>\n",
       "      <td>117</td>\n",
       "      <td>040</td>\n",
       "      <td>11</td>\n",
       "    </tr>\n",
       "  </tbody>\n",
       "</table>\n",
       "</div>"
      ],
      "text/plain": [
       "  code    id  equipement_id                     date            x voie  \\\n",
       "0  M7i  6460           6460  2019-02-18 00:00:15.049  14148093033    1   \n",
       "1  M7i  6460           6460  2019-02-18 00:00:26.549  05354096031    0   \n",
       "2  M7i  6460           6460  2019-02-18 00:00:38.549  10050094039    1   \n",
       "3  M7i  6460           6460  2019-02-18 00:00:50.548  01469102037    0   \n",
       "4  M7i  6460           6460  2019-02-18 00:00:56.549  11973117040    1   \n",
       "\n",
       "  horodatage vitesse longueur  len  \n",
       "0       4148     093      033   11  \n",
       "1       5354     096      031   11  \n",
       "2       0050     094      039   11  \n",
       "3       1469     102      037   11  \n",
       "4       1973     117      040   11  "
      ]
     },
     "execution_count": 39,
     "metadata": {},
     "output_type": "execute_result"
    }
   ],
   "source": [
    "# Reindexer la dataframe\n",
    "result.index = range(len(result))\n",
    "result.head()"
   ]
  },
  {
   "cell_type": "code",
   "execution_count": 40,
   "metadata": {},
   "outputs": [],
   "source": [
    "# Créer une fonction pourcentage\n",
    "def prc(part, whole):\n",
    "    return 100 * float(part)/float(whole)"
   ]
  },
  {
   "cell_type": "code",
   "execution_count": 42,
   "metadata": {},
   "outputs": [
    {
     "data": {
      "text/plain": [
       "0.0"
      ]
     },
     "execution_count": 42,
     "metadata": {},
     "output_type": "execute_result"
    }
   ],
   "source": [
    "# Voyons le pourcentage des lignes dont 'len' diffenrent de 11\n",
    "m = result[(result['len'] != 11)]\n",
    "prc(len(m),len(result))"
   ]
  },
  {
   "cell_type": "code",
   "execution_count": 77,
   "metadata": {},
   "outputs": [],
   "source": [
    "df = result.drop(['equipement_id','len', 'x'], axis=1)"
   ]
  },
  {
   "cell_type": "code",
   "execution_count": 78,
   "metadata": {},
   "outputs": [],
   "source": [
    "#Exporter la table\n",
    "df.to_csv('M7_i_j.csv', index = False, encoding = 'utf-8')"
   ]
  },
  {
   "cell_type": "code",
   "execution_count": 76,
   "metadata": {},
   "outputs": [
    {
     "data": {
      "text/html": [
       "<div>\n",
       "<style scoped>\n",
       "    .dataframe tbody tr th:only-of-type {\n",
       "        vertical-align: middle;\n",
       "    }\n",
       "\n",
       "    .dataframe tbody tr th {\n",
       "        vertical-align: top;\n",
       "    }\n",
       "\n",
       "    .dataframe thead th {\n",
       "        text-align: right;\n",
       "    }\n",
       "</style>\n",
       "<table border=\"1\" class=\"dataframe\">\n",
       "  <thead>\n",
       "    <tr style=\"text-align: right;\">\n",
       "      <th></th>\n",
       "      <th>code</th>\n",
       "      <th>id</th>\n",
       "      <th>date</th>\n",
       "      <th>x</th>\n",
       "      <th>voie</th>\n",
       "      <th>horodatage</th>\n",
       "      <th>vitesse</th>\n",
       "      <th>longueur</th>\n",
       "      <th>len</th>\n",
       "    </tr>\n",
       "  </thead>\n",
       "  <tbody>\n",
       "    <tr>\n",
       "      <th>0</th>\n",
       "      <td>M7i</td>\n",
       "      <td>6460</td>\n",
       "      <td>2019-02-18 00:00:15.049</td>\n",
       "      <td>14148093033</td>\n",
       "      <td>1</td>\n",
       "      <td>4148</td>\n",
       "      <td>093</td>\n",
       "      <td>033</td>\n",
       "      <td>11</td>\n",
       "    </tr>\n",
       "    <tr>\n",
       "      <th>1</th>\n",
       "      <td>M7i</td>\n",
       "      <td>6460</td>\n",
       "      <td>2019-02-18 00:00:26.549</td>\n",
       "      <td>05354096031</td>\n",
       "      <td>0</td>\n",
       "      <td>5354</td>\n",
       "      <td>096</td>\n",
       "      <td>031</td>\n",
       "      <td>11</td>\n",
       "    </tr>\n",
       "    <tr>\n",
       "      <th>2</th>\n",
       "      <td>M7i</td>\n",
       "      <td>6460</td>\n",
       "      <td>2019-02-18 00:00:38.549</td>\n",
       "      <td>10050094039</td>\n",
       "      <td>1</td>\n",
       "      <td>0050</td>\n",
       "      <td>094</td>\n",
       "      <td>039</td>\n",
       "      <td>11</td>\n",
       "    </tr>\n",
       "    <tr>\n",
       "      <th>3</th>\n",
       "      <td>M7i</td>\n",
       "      <td>6460</td>\n",
       "      <td>2019-02-18 00:00:50.548</td>\n",
       "      <td>01469102037</td>\n",
       "      <td>0</td>\n",
       "      <td>1469</td>\n",
       "      <td>102</td>\n",
       "      <td>037</td>\n",
       "      <td>11</td>\n",
       "    </tr>\n",
       "    <tr>\n",
       "      <th>4</th>\n",
       "      <td>M7i</td>\n",
       "      <td>6460</td>\n",
       "      <td>2019-02-18 00:00:56.549</td>\n",
       "      <td>11973117040</td>\n",
       "      <td>1</td>\n",
       "      <td>1973</td>\n",
       "      <td>117</td>\n",
       "      <td>040</td>\n",
       "      <td>11</td>\n",
       "    </tr>\n",
       "  </tbody>\n",
       "</table>\n",
       "</div>"
      ],
      "text/plain": [
       "  code    id                     date            x voie horodatage vitesse  \\\n",
       "0  M7i  6460  2019-02-18 00:00:15.049  14148093033    1       4148     093   \n",
       "1  M7i  6460  2019-02-18 00:00:26.549  05354096031    0       5354     096   \n",
       "2  M7i  6460  2019-02-18 00:00:38.549  10050094039    1       0050     094   \n",
       "3  M7i  6460  2019-02-18 00:00:50.548  01469102037    0       1469     102   \n",
       "4  M7i  6460  2019-02-18 00:00:56.549  11973117040    1       1973     117   \n",
       "\n",
       "  longueur  len  \n",
       "0      033   11  \n",
       "1      031   11  \n",
       "2      039   11  \n",
       "3      037   11  \n",
       "4      040   11  "
      ]
     },
     "execution_count": 76,
     "metadata": {},
     "output_type": "execute_result"
    }
   ],
   "source": [
    "df.head()"
   ]
  },
  {
   "cell_type": "code",
   "execution_count": 75,
   "metadata": {},
   "outputs": [
    {
     "name": "stdout",
     "output_type": "stream",
     "text": [
      "6431\n",
      "6432\n",
      "6460\n",
      "6461\n"
     ]
    }
   ],
   "source": [
    "grouped = df.groupby('id')\n",
    "for name,group in grouped:\n",
    "    print (name)\n"
   ]
  },
  {
   "cell_type": "markdown",
   "metadata": {},
   "source": [
    "- M7i (A7, Sens2 , $264+687$) - id : 6460.\n",
    "- M7I (A7, Sens1 , $264+687$) - id : 6431.\n",
    "- M7j (A7, Sens2 , $265+320$) - id : 6461.\n",
    "- M7J (A7, Sens1 , $265+320$) - id : 6432."
   ]
  },
  {
   "cell_type": "markdown",
   "metadata": {},
   "source": [
    "### Rassembler les données par tranche de 6mn\n"
   ]
  },
  {
   "cell_type": "code",
   "execution_count": 90,
   "metadata": {},
   "outputs": [],
   "source": [
    "df['vitesse'] = pd.to_numeric(df['vitesse'] ,errors='coerce')"
   ]
  },
  {
   "cell_type": "code",
   "execution_count": 79,
   "metadata": {},
   "outputs": [],
   "source": [
    "# library datetime\n",
    "from datetime import datetime\n",
    "from pandas import datetime"
   ]
  },
  {
   "cell_type": "code",
   "execution_count": 91,
   "metadata": {},
   "outputs": [],
   "source": [
    "grouped = df.groupby('code')\n",
    "M7i = grouped.get_group('M7i')\n",
    "M7I = grouped.get_group('M7I')\n",
    "M7j = grouped.get_group('M7j')\n",
    "M7J = grouped.get_group('M7J')"
   ]
  },
  {
   "cell_type": "code",
   "execution_count": null,
   "metadata": {},
   "outputs": [],
   "source": [
    "# Ou bien\n",
    "l2 = ['M7i', 'M7J', 'M7j', 'M7I']\n",
    "l1 = [M7i, M7J, M7j, M7I]\n",
    "for i,f in zip(l1, range(len(l2))):\n",
    "    i = grouped.get_group.(l2[f])"
   ]
  },
  {
   "cell_type": "code",
   "execution_count": 175,
   "metadata": {},
   "outputs": [],
   "source": [
    "# convertir to datetime\n",
    "df['date'] = pd.to_datetime(df['date'])\n",
    "# Set the datetime column as the index\n",
    "df.index = df['date']"
   ]
  },
  {
   "cell_type": "code",
   "execution_count": 194,
   "metadata": {},
   "outputs": [],
   "source": [
    "d = df.groupby(['code','voie']).resample('6T')['vitesse'].mean()"
   ]
  },
  {
   "cell_type": "code",
   "execution_count": 195,
   "metadata": {},
   "outputs": [
    {
     "data": {
      "text/plain": [
       "pandas.core.series.Series"
      ]
     },
     "execution_count": 195,
     "metadata": {},
     "output_type": "execute_result"
    }
   ],
   "source": [
    "type(d)"
   ]
  },
  {
   "cell_type": "code",
   "execution_count": 196,
   "metadata": {},
   "outputs": [],
   "source": [
    "# Conevertir la serie 'd' to dataframe\n",
    "d = pd.DataFrame(d)"
   ]
  },
  {
   "cell_type": "code",
   "execution_count": 197,
   "metadata": {},
   "outputs": [
    {
     "data": {
      "text/html": [
       "<div>\n",
       "<style scoped>\n",
       "    .dataframe tbody tr th:only-of-type {\n",
       "        vertical-align: middle;\n",
       "    }\n",
       "\n",
       "    .dataframe tbody tr th {\n",
       "        vertical-align: top;\n",
       "    }\n",
       "\n",
       "    .dataframe thead th {\n",
       "        text-align: right;\n",
       "    }\n",
       "</style>\n",
       "<table border=\"1\" class=\"dataframe\">\n",
       "  <thead>\n",
       "    <tr style=\"text-align: right;\">\n",
       "      <th></th>\n",
       "      <th></th>\n",
       "      <th></th>\n",
       "      <th>vitesse</th>\n",
       "    </tr>\n",
       "    <tr>\n",
       "      <th>code</th>\n",
       "      <th>voie</th>\n",
       "      <th>date</th>\n",
       "      <th></th>\n",
       "    </tr>\n",
       "  </thead>\n",
       "  <tbody>\n",
       "    <tr>\n",
       "      <th rowspan=\"5\" valign=\"top\">M7I</th>\n",
       "      <th rowspan=\"5\" valign=\"top\">0</th>\n",
       "      <th>2019-02-18 00:00:00</th>\n",
       "      <td>95.421053</td>\n",
       "    </tr>\n",
       "    <tr>\n",
       "      <th>2019-02-18 00:06:00</th>\n",
       "      <td>103.857143</td>\n",
       "    </tr>\n",
       "    <tr>\n",
       "      <th>2019-02-18 00:12:00</th>\n",
       "      <td>103.000000</td>\n",
       "    </tr>\n",
       "    <tr>\n",
       "      <th>2019-02-18 00:18:00</th>\n",
       "      <td>101.200000</td>\n",
       "    </tr>\n",
       "    <tr>\n",
       "      <th>2019-02-18 00:24:00</th>\n",
       "      <td>104.571429</td>\n",
       "    </tr>\n",
       "  </tbody>\n",
       "</table>\n",
       "</div>"
      ],
      "text/plain": [
       "                                  vitesse\n",
       "code voie date                           \n",
       "M7I  0    2019-02-18 00:00:00   95.421053\n",
       "          2019-02-18 00:06:00  103.857143\n",
       "          2019-02-18 00:12:00  103.000000\n",
       "          2019-02-18 00:18:00  101.200000\n",
       "          2019-02-18 00:24:00  104.571429"
      ]
     },
     "execution_count": 197,
     "metadata": {},
     "output_type": "execute_result"
    }
   ],
   "source": [
    "d.head()"
   ]
  },
  {
   "cell_type": "code",
   "execution_count": 198,
   "metadata": {},
   "outputs": [],
   "source": [
    "d['date'] = d.index"
   ]
  },
  {
   "cell_type": "code",
   "execution_count": 199,
   "metadata": {},
   "outputs": [],
   "source": [
    "# Reindexer la table\n",
    "d.index = range(len(d))"
   ]
  },
  {
   "cell_type": "code",
   "execution_count": 200,
   "metadata": {},
   "outputs": [
    {
     "data": {
      "text/html": [
       "<div>\n",
       "<style scoped>\n",
       "    .dataframe tbody tr th:only-of-type {\n",
       "        vertical-align: middle;\n",
       "    }\n",
       "\n",
       "    .dataframe tbody tr th {\n",
       "        vertical-align: top;\n",
       "    }\n",
       "\n",
       "    .dataframe thead th {\n",
       "        text-align: right;\n",
       "    }\n",
       "</style>\n",
       "<table border=\"1\" class=\"dataframe\">\n",
       "  <thead>\n",
       "    <tr style=\"text-align: right;\">\n",
       "      <th></th>\n",
       "      <th>vitesse</th>\n",
       "      <th>date</th>\n",
       "    </tr>\n",
       "  </thead>\n",
       "  <tbody>\n",
       "    <tr>\n",
       "      <th>0</th>\n",
       "      <td>95.421053</td>\n",
       "      <td>(M7I, 0, 2019-02-18 00:00:00)</td>\n",
       "    </tr>\n",
       "    <tr>\n",
       "      <th>1</th>\n",
       "      <td>103.857143</td>\n",
       "      <td>(M7I, 0, 2019-02-18 00:06:00)</td>\n",
       "    </tr>\n",
       "    <tr>\n",
       "      <th>2</th>\n",
       "      <td>103.000000</td>\n",
       "      <td>(M7I, 0, 2019-02-18 00:12:00)</td>\n",
       "    </tr>\n",
       "    <tr>\n",
       "      <th>3</th>\n",
       "      <td>101.200000</td>\n",
       "      <td>(M7I, 0, 2019-02-18 00:18:00)</td>\n",
       "    </tr>\n",
       "    <tr>\n",
       "      <th>4</th>\n",
       "      <td>104.571429</td>\n",
       "      <td>(M7I, 0, 2019-02-18 00:24:00)</td>\n",
       "    </tr>\n",
       "  </tbody>\n",
       "</table>\n",
       "</div>"
      ],
      "text/plain": [
       "      vitesse                           date\n",
       "0   95.421053  (M7I, 0, 2019-02-18 00:00:00)\n",
       "1  103.857143  (M7I, 0, 2019-02-18 00:06:00)\n",
       "2  103.000000  (M7I, 0, 2019-02-18 00:12:00)\n",
       "3  101.200000  (M7I, 0, 2019-02-18 00:18:00)\n",
       "4  104.571429  (M7I, 0, 2019-02-18 00:24:00)"
      ]
     },
     "execution_count": 200,
     "metadata": {},
     "output_type": "execute_result"
    }
   ],
   "source": [
    "d.head()"
   ]
  },
  {
   "cell_type": "code",
   "execution_count": 145,
   "metadata": {},
   "outputs": [
    {
     "data": {
      "text/plain": [
       "pandas.core.series.Series"
      ]
     },
     "execution_count": 145,
     "metadata": {},
     "output_type": "execute_result"
    }
   ],
   "source": [
    "type(d.date)"
   ]
  },
  {
   "cell_type": "code",
   "execution_count": 201,
   "metadata": {},
   "outputs": [],
   "source": [
    "d[\"code\"] = d['date'].str.slice(0,1)\n",
    "d[\"voie\"] = d['date'].str.slice(1,2)\n",
    "d[\"date\"] = d['date'].str.slice(2,3)"
   ]
  },
  {
   "cell_type": "code",
   "execution_count": 202,
   "metadata": {},
   "outputs": [
    {
     "data": {
      "text/html": [
       "<div>\n",
       "<style scoped>\n",
       "    .dataframe tbody tr th:only-of-type {\n",
       "        vertical-align: middle;\n",
       "    }\n",
       "\n",
       "    .dataframe tbody tr th {\n",
       "        vertical-align: top;\n",
       "    }\n",
       "\n",
       "    .dataframe thead th {\n",
       "        text-align: right;\n",
       "    }\n",
       "</style>\n",
       "<table border=\"1\" class=\"dataframe\">\n",
       "  <thead>\n",
       "    <tr style=\"text-align: right;\">\n",
       "      <th></th>\n",
       "      <th>vitesse</th>\n",
       "      <th>date</th>\n",
       "      <th>code</th>\n",
       "      <th>voie</th>\n",
       "    </tr>\n",
       "  </thead>\n",
       "  <tbody>\n",
       "    <tr>\n",
       "      <th>0</th>\n",
       "      <td>95.421053</td>\n",
       "      <td>(2019-02-18 00:00:00,)</td>\n",
       "      <td>(M7I,)</td>\n",
       "      <td>(0,)</td>\n",
       "    </tr>\n",
       "    <tr>\n",
       "      <th>1</th>\n",
       "      <td>103.857143</td>\n",
       "      <td>(2019-02-18 00:06:00,)</td>\n",
       "      <td>(M7I,)</td>\n",
       "      <td>(0,)</td>\n",
       "    </tr>\n",
       "  </tbody>\n",
       "</table>\n",
       "</div>"
      ],
      "text/plain": [
       "      vitesse                    date    code  voie\n",
       "0   95.421053  (2019-02-18 00:00:00,)  (M7I,)  (0,)\n",
       "1  103.857143  (2019-02-18 00:06:00,)  (M7I,)  (0,)"
      ]
     },
     "execution_count": 202,
     "metadata": {},
     "output_type": "execute_result"
    }
   ],
   "source": [
    "d.head(2)"
   ]
  },
  {
   "cell_type": "code",
   "execution_count": 171,
   "metadata": {
    "scrolled": true
   },
   "outputs": [],
   "source": [
    "#d['date'] = pd.to_datetime(d['date'])"
   ]
  },
  {
   "cell_type": "code",
   "execution_count": 154,
   "metadata": {},
   "outputs": [],
   "source": [
    "d[\"time\"] = d['date'].str.slice(0,1)"
   ]
  },
  {
   "cell_type": "code",
   "execution_count": 155,
   "metadata": {},
   "outputs": [
    {
     "data": {
      "text/html": [
       "<div>\n",
       "<style scoped>\n",
       "    .dataframe tbody tr th:only-of-type {\n",
       "        vertical-align: middle;\n",
       "    }\n",
       "\n",
       "    .dataframe tbody tr th {\n",
       "        vertical-align: top;\n",
       "    }\n",
       "\n",
       "    .dataframe thead th {\n",
       "        text-align: right;\n",
       "    }\n",
       "</style>\n",
       "<table border=\"1\" class=\"dataframe\">\n",
       "  <thead>\n",
       "    <tr style=\"text-align: right;\">\n",
       "      <th></th>\n",
       "      <th>vitesse</th>\n",
       "      <th>date</th>\n",
       "      <th>code</th>\n",
       "      <th>time</th>\n",
       "    </tr>\n",
       "  </thead>\n",
       "  <tbody>\n",
       "    <tr>\n",
       "      <th>0</th>\n",
       "      <td>99.800000</td>\n",
       "      <td>(2019-02-18 00:00:00,)</td>\n",
       "      <td>(M7I,)</td>\n",
       "      <td>(2019-02-18 00:00:00,)</td>\n",
       "    </tr>\n",
       "    <tr>\n",
       "      <th>1</th>\n",
       "      <td>100.903226</td>\n",
       "      <td>(2019-02-18 00:06:00,)</td>\n",
       "      <td>(M7I,)</td>\n",
       "      <td>(2019-02-18 00:06:00,)</td>\n",
       "    </tr>\n",
       "    <tr>\n",
       "      <th>2</th>\n",
       "      <td>105.363636</td>\n",
       "      <td>(2019-02-18 00:12:00,)</td>\n",
       "      <td>(M7I,)</td>\n",
       "      <td>(2019-02-18 00:12:00,)</td>\n",
       "    </tr>\n",
       "    <tr>\n",
       "      <th>3</th>\n",
       "      <td>101.485714</td>\n",
       "      <td>(2019-02-18 00:18:00,)</td>\n",
       "      <td>(M7I,)</td>\n",
       "      <td>(2019-02-18 00:18:00,)</td>\n",
       "    </tr>\n",
       "    <tr>\n",
       "      <th>4</th>\n",
       "      <td>101.363636</td>\n",
       "      <td>(2019-02-18 00:24:00,)</td>\n",
       "      <td>(M7I,)</td>\n",
       "      <td>(2019-02-18 00:24:00,)</td>\n",
       "    </tr>\n",
       "  </tbody>\n",
       "</table>\n",
       "</div>"
      ],
      "text/plain": [
       "      vitesse                    date    code                    time\n",
       "0   99.800000  (2019-02-18 00:00:00,)  (M7I,)  (2019-02-18 00:00:00,)\n",
       "1  100.903226  (2019-02-18 00:06:00,)  (M7I,)  (2019-02-18 00:06:00,)\n",
       "2  105.363636  (2019-02-18 00:12:00,)  (M7I,)  (2019-02-18 00:12:00,)\n",
       "3  101.485714  (2019-02-18 00:18:00,)  (M7I,)  (2019-02-18 00:18:00,)\n",
       "4  101.363636  (2019-02-18 00:24:00,)  (M7I,)  (2019-02-18 00:24:00,)"
      ]
     },
     "execution_count": 155,
     "metadata": {},
     "output_type": "execute_result"
    }
   ],
   "source": [
    "d.head()"
   ]
  },
  {
   "cell_type": "markdown",
   "metadata": {},
   "source": [
    "essayons de le faire autrement"
   ]
  },
  {
   "cell_type": "code",
   "execution_count": 207,
   "metadata": {},
   "outputs": [],
   "source": [
    "df1 = df.groupby(['code','voie']).resample('6T')['vitesse'].mean()"
   ]
  },
  {
   "cell_type": "code",
   "execution_count": 230,
   "metadata": {
    "scrolled": true
   },
   "outputs": [
    {
     "data": {
      "text/plain": [
       "FrozenList(['code', 'voie', 'date'])"
      ]
     },
     "execution_count": 230,
     "metadata": {},
     "output_type": "execute_result"
    }
   ],
   "source": [
    "df1.index.names"
   ]
  },
  {
   "cell_type": "code",
   "execution_count": 227,
   "metadata": {},
   "outputs": [],
   "source": [
    "indexe = df1.index.names"
   ]
  },
  {
   "cell_type": "code",
   "execution_count": 228,
   "metadata": {},
   "outputs": [],
   "source": [
    "df = pd.DataFrame(df1, index = range(len(df1)), columns=indexe)"
   ]
  },
  {
   "cell_type": "code",
   "execution_count": null,
   "metadata": {},
   "outputs": [],
   "source": []
  }
 ],
 "metadata": {
  "kernelspec": {
   "display_name": "Python 3",
   "language": "python",
   "name": "python3"
  },
  "language_info": {
   "codemirror_mode": {
    "name": "ipython",
    "version": 3
   },
   "file_extension": ".py",
   "mimetype": "text/x-python",
   "name": "python",
   "nbconvert_exporter": "python",
   "pygments_lexer": "ipython3",
   "version": "3.7.3"
  }
 },
 "nbformat": 4,
 "nbformat_minor": 2
}
